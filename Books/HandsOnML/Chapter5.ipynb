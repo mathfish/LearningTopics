{
 "cells": [
  {
   "cell_type": "code",
   "execution_count": 1,
   "id": "reflected-newcastle",
   "metadata": {},
   "outputs": [],
   "source": [
    "from scipy import stats\n",
    "from sklearn.datasets import fetch_openml, load_iris\n",
    "from sklearn.linear_model import SGDClassifier\n",
    "from sklearn.svm import LinearSVC, SVC\n",
    "from sklearn.model_selection import train_test_split, cross_val_score, cross_val_predict, RandomizedSearchCV, GridSearchCV, RepeatedStratifiedKFold, StratifiedShuffleSplit\n",
    "from sklearn.metrics import accuracy_score, recall_score, precision_score, precision_recall_curve, roc_curve, f1_score\n",
    "from sklearn.pipeline import Pipeline\n",
    "from sklearn.preprocessing import StandardScaler\n",
    "import pandas as pd\n",
    "import numpy as np\n",
    "import matplotlib.pyplot as plt"
   ]
  },
  {
   "cell_type": "markdown",
   "id": "chemical-lobby",
   "metadata": {},
   "source": [
    "# Chapter 5\n",
    "\n",
    "## 1. What is the fundamental idea behind Support Vector Machines? \n",
    "A SVM seeks to segment two independent groups instances through inserting a vector between these two groups of instances with as wide as margin about the line as possible, while simultaneously minimizing the number of instances that overlap this span. This can be achieved through either not allowign any overlap (hard margin) or minimizing the number of overlap (soft margin). Or in the case of regression, the process seeks to keep as many instances between the margins of the vector. Through differing kernels, this vector can be nonlinear and highly complex.  \n",
    "\n",
    "## 2. What is a support vector?\n",
    "A support vector is a (hyper) point which is an instance that lies within the margin about the segmenting line or on the boundary. These points fully support the decision boundary and only these points. As such it is these points that are used for the prediction process. Hard magin will only have support vectors on the boundary, whereas soft margin will allow support vectors within the margin.  \n",
    "\n",
    "## 3. Why is it important to scale the inputs when using SVMs? \n",
    "SVMs are very sensitive to differing scales of values and will affect the process of creating the support vectors. This is due to the SVM neglecting small features in the process of maximizing the margins about the decision boundary. \n",
    "\n",
    "## 4. Can an SVM classifier output a confidence score when it classifies an instance? What about a probability? \n",
    "A SVM classifier can produce a score that is based upon the kernel that is measure of \"distance\" between the point and the decision boundary but it cannot produce a probability directly. \n",
    "\n",
    "## 5. Should you use the primal or dual form of the SVM problem to train a model on a training set with millions of instances and hundreds of features? \n",
    "A kernalized SVM must use the dual form. For a linear SVM that can use either the primal or the dual form, and the complexity for the dual form scales like $O(m^2 + n)$ to $O(m^3 + n)$. So it is polynomial time in the number of instances but linear in the number of features. Whereas the primal form scales linearly in both. \n",
    "\n",
    "## 6. Say you've trained an SVM classifier with an RBF kernel, but it seems to underfit the training set. Should you increase or decrease $\\gamma$? What about C? \n",
    "Increasing $/gamma$ will increase the complexity of the model, thereby fitting better. Additionally one can increase $C$ to adjust Hinge loss as well to add complexity.\n",
    "\n",
    "## 7. How should you set the QP parameters (**H**, **f**, **A**, and **b**) to solve the soft margin linear SVM classifier problem using an off-the-shelf QP solver? \n",
    "meh\n",
    "\n",
    "\n",
    "\n",
    "\n",
    "\n",
    "## 10. Train SVM on housing data set\n"
   ]
  },
  {
   "cell_type": "markdown",
   "id": "varied-management",
   "metadata": {},
   "source": [
    "## 8. Train a `LinearSVC` classifier on a linearly separable dataset. Then train an `SVC` and a `SGDClassifier` on the same dataset. See if you can get them to produce rougly the same model. "
   ]
  },
  {
   "cell_type": "code",
   "execution_count": 53,
   "id": "disturbed-contact",
   "metadata": {},
   "outputs": [],
   "source": [
    "iris = load_iris()\n",
    "X = iris[\"data\"][:, (2, 3)] # petal length, width\n",
    "y = (iris[\"target\"] == 2).astype(np.float64) # virginica"
   ]
  },
  {
   "cell_type": "code",
   "execution_count": 54,
   "id": "authentic-ecuador",
   "metadata": {},
   "outputs": [],
   "source": [
    "strat_split = StratifiedShuffleSplit(n_splits=1, train_size=.8, random_state=42)\n",
    "train_idx, test_idx = next(strat_split.split(X, y))\n",
    "X_train = X[train_idx]\n",
    "y_train = y[train_idx]\n",
    "X_test = X[test_idx]\n",
    "y_test = y[test_idx]"
   ]
  },
  {
   "cell_type": "code",
   "execution_count": 80,
   "id": "central-humanitarian",
   "metadata": {},
   "outputs": [],
   "source": [
    "# LinearSVC\n",
    "lin_svm = Pipeline([(\"scaler\", StandardScaler()),\n",
    "                    (\"linear_svc\", LinearSVC(loss=\"hinge\", max_iter=20000))\n",
    "                   ])\n",
    "\n",
    "pgrid = [{\"linear_svc__C\": [1, 10, 100, 1000], \n",
    "         \"linear_svc__dual\": [True]}, \n",
    "         {\"linear_svc__C\": [1, 10, 100, 1000], \n",
    "          \"linear_svc__dual\": [False],\n",
    "          \"linear_svc__penalty\": [\"l1\"],\n",
    "          \"linear_svc__loss\": [\"squared_hinge\"]\n",
    "         }]\n",
    "\n",
    "strat_fold = RepeatedStratifiedKFold(n_splits=3, n_repeats=2)\n",
    "grid_cv = GridSearchCV(lin_svm, pgrid, cv=strat_fold)"
   ]
  },
  {
   "cell_type": "code",
   "execution_count": 81,
   "id": "tired-liberia",
   "metadata": {},
   "outputs": [],
   "source": [
    "grid_cv.fit(X_train, y_train);"
   ]
  },
  {
   "cell_type": "code",
   "execution_count": 82,
   "id": "north-proxy",
   "metadata": {},
   "outputs": [],
   "source": [
    "y_hat = grid_cv.predict(X_test)"
   ]
  },
  {
   "cell_type": "code",
   "execution_count": 83,
   "id": "significant-penguin",
   "metadata": {},
   "outputs": [
    {
     "data": {
      "text/plain": [
       "0.9473684210526316"
      ]
     },
     "execution_count": 83,
     "metadata": {},
     "output_type": "execute_result"
    }
   ],
   "source": [
    "f1_score(y_test, y_hat)"
   ]
  },
  {
   "cell_type": "code",
   "execution_count": 99,
   "id": "unlikely-trinity",
   "metadata": {},
   "outputs": [
    {
     "name": "stdout",
     "output_type": "stream",
     "text": [
      "coefs: [[1.43277667 2.06540262]], int: [-2.12488123]\n"
     ]
    }
   ],
   "source": [
    "lin_coefs = grid_cv.best_estimator_.named_steps['linear_svc'].coef_\n",
    "lin_int = grid_cv.best_estimator_.named_steps['linear_svc'].intercept_\n",
    "print(f'coefs: {lin_coefs}, int: {lin_int}')"
   ]
  },
  {
   "cell_type": "code",
   "execution_count": 145,
   "id": "dirty-nursery",
   "metadata": {},
   "outputs": [],
   "source": [
    "lin_m = -lin_coefs[0, 0]/lin_coefs[0, 1]\n",
    "lin_int = -lin_int[0]/lin_coefs[0, 1]"
   ]
  },
  {
   "cell_type": "code",
   "execution_count": 59,
   "id": "declared-slide",
   "metadata": {},
   "outputs": [],
   "source": [
    "# SVC\n",
    "svc = Pipeline([(\"scaler\", StandardScaler()),\n",
    "                (\"svc\", SVC(max_iter=20000, kernel=\"linear\"))\n",
    "                   ])\n",
    "\n",
    "pgrid = {\"svc__C\": [1, 10, 100, 1000]\n",
    "         }\n",
    "\n",
    "strat_fold = RepeatedStratifiedKFold(n_splits=3, n_repeats=2)\n",
    "svc_grid_cv = GridSearchCV(svc, pgrid, cv=strat_fold)"
   ]
  },
  {
   "cell_type": "code",
   "execution_count": 60,
   "id": "functioning-freeware",
   "metadata": {},
   "outputs": [],
   "source": [
    "svc_grid_cv.fit(X_train, y_train);"
   ]
  },
  {
   "cell_type": "code",
   "execution_count": 61,
   "id": "patient-mirror",
   "metadata": {},
   "outputs": [
    {
     "data": {
      "text/plain": [
       "0.9473684210526316"
      ]
     },
     "execution_count": 61,
     "metadata": {},
     "output_type": "execute_result"
    }
   ],
   "source": [
    "y_svc_hat = svc_grid_cv.predict(X_test)\n",
    "f1_score(y_test, y_svc_hat)"
   ]
  },
  {
   "cell_type": "code",
   "execution_count": 98,
   "id": "prompt-trial",
   "metadata": {},
   "outputs": [
    {
     "name": "stdout",
     "output_type": "stream",
     "text": [
      "coefs: [[1.8891107  2.44451219]], int: [-2.82657588]\n"
     ]
    }
   ],
   "source": [
    "svc_coefs = svc_grid_cv.best_estimator_.named_steps['svc'].coef_\n",
    "svc_int = svc_grid_cv.best_estimator_.named_steps['svc'].intercept_\n",
    "print(f'coefs: {svc_coefs}, int: {svc_int}')"
   ]
  },
  {
   "cell_type": "code",
   "execution_count": 142,
   "id": "headed-manual",
   "metadata": {},
   "outputs": [],
   "source": [
    "svc_m = -svc_coefs[0, 0]/svc_coefs[0, 1]\n",
    "svc_int = -svc_int[0]/svc_coefs[0, 1]"
   ]
  },
  {
   "cell_type": "code",
   "execution_count": 100,
   "id": "several-taylor",
   "metadata": {},
   "outputs": [],
   "source": [
    "# SGD\n",
    "sgd = Pipeline([(\"scaler\", StandardScaler()),\n",
    "                (\"sgd\", SGDClassifier(max_iter=20000))\n",
    "                   ])\n",
    "\n",
    "pgrid = {\"sgd__alpha\": [.0001, .001, .01, .1]\n",
    "         }\n",
    "\n",
    "strat_fold = RepeatedStratifiedKFold(n_splits=3, n_repeats=2)\n",
    "sgd_grid_cv = GridSearchCV(sgd, pgrid, cv=strat_fold)"
   ]
  },
  {
   "cell_type": "code",
   "execution_count": 101,
   "id": "desperate-dispute",
   "metadata": {},
   "outputs": [],
   "source": [
    "sgd_grid_cv.fit(X_train, y_train);"
   ]
  },
  {
   "cell_type": "code",
   "execution_count": 102,
   "id": "public-relation",
   "metadata": {},
   "outputs": [
    {
     "data": {
      "text/plain": [
       "0.9473684210526316"
      ]
     },
     "execution_count": 102,
     "metadata": {},
     "output_type": "execute_result"
    }
   ],
   "source": [
    "y_sgd_hat = sgd_grid_cv.predict(X_test)\n",
    "f1_score(y_test, y_sgd_hat)"
   ]
  },
  {
   "cell_type": "code",
   "execution_count": 103,
   "id": "aggressive-thermal",
   "metadata": {},
   "outputs": [
    {
     "name": "stdout",
     "output_type": "stream",
     "text": [
      "coefs: [[0.87210446 1.12608346]], int: [-1.36855837]\n"
     ]
    }
   ],
   "source": [
    "sgd_coefs = sgd_grid_cv.best_estimator_.named_steps['sgd'].coef_\n",
    "sgd_int = sgd_grid_cv.best_estimator_.named_steps['sgd'].intercept_\n",
    "print(f'coefs: {sgd_coefs}, int: {sgd_int}')"
   ]
  },
  {
   "cell_type": "code",
   "execution_count": 117,
   "id": "appropriate-intellectual",
   "metadata": {},
   "outputs": [],
   "source": [
    "# at decision boundary w0*x0 + w1+x1 + b = 0 -> x1 = -(w0*x0)/w1 -b/w1\n",
    "sgd_m = -sgd_coefs[0, 0]/sgd_coefs[0, 1]\n",
    "sgd_int = -sgd_int[0]/sgd_coefs[0, 1]"
   ]
  },
  {
   "cell_type": "code",
   "execution_count": 150,
   "id": "discrete-wings",
   "metadata": {},
   "outputs": [
    {
     "data": {
      "image/png": "[encoded data removed]",
      "text/plain": [
       "<Figure size 432x288 with 1 Axes>"
      ]
     },
     "metadata": {
      "needs_background": "light"
     },
     "output_type": "display_data"
    }
   ],
   "source": [
    "sgd_l = sgd_grid_cv.best_estimator_.named_steps['scaler'].inverse_transform([[-10, -10*sgd_m + sgd_int], [10, 10*sgd_m + sgd_int]])\n",
    "svc_l = svc_grid_cv.best_estimator_.named_steps['scaler'].inverse_transform([[-10, -10*svc_m + svc_int], [10, 10*svc_m + svc_int]])\n",
    "lin_l = grid_cv.best_estimator_.named_steps['scaler'].inverse_transform([[-10, -10*lin_m + lin_int], [10, 10*lin_m + lin_int]])\n",
    "plt.plot(X[:, 0][y==1], X[:, 1][y==1], \"bs\") # virginica\n",
    "plt.plot(X[:, 0][y==0], X[:, 1][y==0], \"yo\") # not virginica\n",
    "plt.plot(sgd_l[:,0], sgd_l[:,1], label='sgd')\n",
    "plt.plot(svc_l[:,0], svc_l[:,1], label='svc')\n",
    "plt.plot(lin_l[:,0], lin_l[:,1], label='linear svc')\n",
    "plt.legend(loc='lower right')\n",
    "plt.axis([0, 8, -1, 3]);"
   ]
  },
  {
   "cell_type": "markdown",
   "id": "proprietary-foster",
   "metadata": {},
   "source": [
    "## 9. Train an SVM classifier on the MNIST dataset. Since the SVM  classifier are binary classifiers, you will need to use a one-versus-the-rest to classify all 10 digits. "
   ]
  },
  {
   "cell_type": "code",
   "execution_count": 17,
   "id": "hollow-might",
   "metadata": {},
   "outputs": [],
   "source": [
    "mnist = fetch_openml('mnist_784', version=1, cache=True)"
   ]
  },
  {
   "cell_type": "code",
   "execution_count": 18,
   "id": "miniature-stretch",
   "metadata": {},
   "outputs": [],
   "source": [
    "# Get Data\n",
    "X = mnist['data']\n",
    "y= mnist['target']"
   ]
  },
  {
   "cell_type": "code",
   "execution_count": 19,
   "id": "under-ordinary",
   "metadata": {},
   "outputs": [],
   "source": [
    "X_train, X_test, y_train, y_test = X[:60000], X[60000:], y[:60000], y[60000:]\n",
    "strat_split = StratifiedShuffleSplit(n_splits=1, train_size=.9, random_state=42)\n",
    "train_idx, val_idx = next(strat_split.split(X_train, y_train))\n",
    "training = X_train[train_idx]\n",
    "train_targ = y_train[train_idx]\n",
    "val = X_train[val_idx]\n",
    "val_targ = y_train[val_idx]"
   ]
  },
  {
   "cell_type": "code",
   "execution_count": 23,
   "id": "developing-canvas",
   "metadata": {},
   "outputs": [],
   "source": [
    "svc_pl = Pipeline([(\"scaler\", StandardScaler()),\n",
    "                (\"svc\", SVC(decision_function_shape='ovr'))\n",
    "                   ])\n",
    "\n",
    "pgrid = [{\"svc__C\": stats.halfnorm(loc=1, scale=20),\n",
    "          \"svc__kernel\": [\"rbf\", \"poly\"],\n",
    "          \"svc__degree\": [2, 3, 5, 7],\n",
    "          \"svc__gamma\": stats.reciprocal(.0001, .01)\n",
    "         }]\n",
    "\n",
    "strat_fold = RepeatedStratifiedKFold(n_splits=3, n_repeats=1)\n",
    "svc_cv = RandomizedSearchCV(svc_pl, pgrid, cv=strat_fold, n_iter=10, verbose=2, n_jobs=4)\n",
    "# svc_cv = GridSearchCV(svc_pl, pgrid, cv=strat_fold)"
   ]
  },
  {
   "cell_type": "code",
   "execution_count": 24,
   "id": "bound-clearing",
   "metadata": {},
   "outputs": [
    {
     "name": "stdout",
     "output_type": "stream",
     "text": [
      "Fitting 3 folds for each of 10 candidates, totalling 30 fits\n"
     ]
    },
    {
     "name": "stderr",
     "output_type": "stream",
     "text": [
      "[Parallel(n_jobs=4)]: Using backend LokyBackend with 4 concurrent workers.\n",
      "[Parallel(n_jobs=4)]: Done  30 out of  30 | elapsed: 10.2min finished\n"
     ]
    },
    {
     "data": {
      "text/plain": [
       "RandomizedSearchCV(cv=RepeatedStratifiedKFold(n_repeats=1, n_splits=3, random_state=None),\n",
       "                   estimator=Pipeline(steps=[('scaler', StandardScaler()),\n",
       "                                             ('svc', SVC())]),\n",
       "                   n_jobs=4,\n",
       "                   param_distributions=[{'svc__C': <scipy.stats._distn_infrastructure.rv_frozen object at 0x7f8804b42fd0>,\n",
       "                                         'svc__degree': [2, 3, 5, 7],\n",
       "                                         'svc__gamma': <scipy.stats._distn_infrastructure.rv_frozen object at 0x7f8804b23da0>,\n",
       "                                         'svc__kernel': ['rbf', 'poly']}],\n",
       "                   verbose=2)"
      ]
     },
     "execution_count": 24,
     "metadata": {},
     "output_type": "execute_result"
    }
   ],
   "source": [
    "svc_cv.fit(val, val_targ)"
   ]
  },
  {
   "cell_type": "code",
   "execution_count": 25,
   "id": "distant-hawaiian",
   "metadata": {},
   "outputs": [
    {
     "data": {
      "text/plain": [
       "0.9141666666666666"
      ]
     },
     "execution_count": 25,
     "metadata": {},
     "output_type": "execute_result"
    }
   ],
   "source": [
    "svc_cv.best_score_"
   ]
  },
  {
   "cell_type": "code",
   "execution_count": 26,
   "id": "changing-screening",
   "metadata": {},
   "outputs": [
    {
     "data": {
      "text/plain": [
       "Pipeline(steps=[('scaler', StandardScaler()),\n",
       "                ('svc',\n",
       "                 SVC(C=29.405650201689127, gamma=0.00011400041507346868))])"
      ]
     },
     "execution_count": 26,
     "metadata": {},
     "output_type": "execute_result"
    }
   ],
   "source": [
    "svc_cv.best_estimator_.fit(training, train_targ)"
   ]
  },
  {
   "cell_type": "code",
   "execution_count": 27,
   "id": "changing-manual",
   "metadata": {},
   "outputs": [
    {
     "data": {
      "text/plain": [
       "0.9593"
      ]
     },
     "execution_count": 27,
     "metadata": {},
     "output_type": "execute_result"
    }
   ],
   "source": [
    "y_hat = svc_cv.best_estimator_.predict(X_test)\n",
    "accuracy_score(y_test, y_hat)"
   ]
  },
  {
   "cell_type": "markdown",
   "id": "ignored-publicity",
   "metadata": {},
   "source": []
  }
 ],
 "metadata": {
  "kernelspec": {
   "display_name": "Python 3",
   "language": "python",
   "name": "python3"
  },
  "language_info": {
   "codemirror_mode": {
    "name": "ipython",
    "version": 3
   },
   "file_extension": ".py",
   "mimetype": "text/x-python",
   "name": "python",
   "nbconvert_exporter": "python",
   "pygments_lexer": "ipython3",
   "version": "3.7.3"
  }
 },
 "nbformat": 4,
 "nbformat_minor": 5
}
