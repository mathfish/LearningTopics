{
 "cells": [
  {
   "cell_type": "code",
   "execution_count": 1,
   "id": "0dfbe518-b24f-41e0-9c45-b173d8167859",
   "metadata": {},
   "outputs": [
    {
     "name": "stderr",
     "output_type": "stream",
     "text": [
      "── \u001b[1mAttaching packages\u001b[22m ──────────────────────────────────────────────────────────────────────────────────────────────────────────────────────────────────────────── fpp3 0.4.0 ──\n",
      "\n",
      "\u001b[32m✔\u001b[39m \u001b[34mtibble     \u001b[39m 3.1.6     \u001b[32m✔\u001b[39m \u001b[34mtsibble    \u001b[39m 1.1.1\n",
      "\u001b[32m✔\u001b[39m \u001b[34mdplyr      \u001b[39m 1.0.8     \u001b[32m✔\u001b[39m \u001b[34mtsibbledata\u001b[39m 0.4.0\n",
      "\u001b[32m✔\u001b[39m \u001b[34mtidyr      \u001b[39m 1.2.0     \u001b[32m✔\u001b[39m \u001b[34mfeasts     \u001b[39m 0.2.2\n",
      "\u001b[32m✔\u001b[39m \u001b[34mlubridate  \u001b[39m 1.8.0     \u001b[32m✔\u001b[39m \u001b[34mfable      \u001b[39m 0.3.1\n",
      "\u001b[32m✔\u001b[39m \u001b[34mggplot2    \u001b[39m 3.3.5     \n",
      "\n",
      "── \u001b[1mConflicts\u001b[22m ───────────────────────────────────────────────────────────────────────────────────────────────────────────────────────────────────────────────── fpp3_conflicts ──\n",
      "\u001b[31m✖\u001b[39m \u001b[34mlubridate\u001b[39m::\u001b[32mdate()\u001b[39m    masks \u001b[34mbase\u001b[39m::date()\n",
      "\u001b[31m✖\u001b[39m \u001b[34mdplyr\u001b[39m::\u001b[32mfilter()\u001b[39m      masks \u001b[34mstats\u001b[39m::filter()\n",
      "\u001b[31m✖\u001b[39m \u001b[34mtsibble\u001b[39m::\u001b[32mintersect()\u001b[39m masks \u001b[34mbase\u001b[39m::intersect()\n",
      "\u001b[31m✖\u001b[39m \u001b[34mtsibble\u001b[39m::\u001b[32minterval()\u001b[39m  masks \u001b[34mlubridate\u001b[39m::interval()\n",
      "\u001b[31m✖\u001b[39m \u001b[34mdplyr\u001b[39m::\u001b[32mlag()\u001b[39m         masks \u001b[34mstats\u001b[39m::lag()\n",
      "\u001b[31m✖\u001b[39m \u001b[34mtsibble\u001b[39m::\u001b[32msetdiff()\u001b[39m   masks \u001b[34mbase\u001b[39m::setdiff()\n",
      "\u001b[31m✖\u001b[39m \u001b[34mtsibble\u001b[39m::\u001b[32munion()\u001b[39m     masks \u001b[34mbase\u001b[39m::union()\n",
      "\n",
      "Loading required package: forecast\n",
      "\n",
      "Registered S3 method overwritten by 'quantmod':\n",
      "  method            from\n",
      "  as.zoo.data.frame zoo \n",
      "\n"
     ]
    }
   ],
   "source": [
    "library(fpp3)\n",
    "library(dplyr)\n",
    "library(purrr)\n",
    "library(fma)"
   ]
  },
  {
   "cell_type": "code",
   "execution_count": 2,
   "id": "74b7d1aa-e917-49fb-af93-6f5b42528058",
   "metadata": {},
   "outputs": [],
   "source": [
    "ts2csv <- function(objname, pname) {\n",
    "    dir.create(paste0('data/', pname), showWarnings = FALSE)\n",
    "    fname <- paste0('data/', pname, '/', objname, '.csv')\n",
    "    x = get(objname)\n",
    "    tryCatch({\n",
    "        readr::write_csv(x, fname)\n",
    "        print(fname)\n",
    "    }, warning = function(w) {\n",
    "    }, error = function(e) {\n",
    "        print(paste0(fname, \" <-- error\"))\n",
    "        print(e)\n",
    "    }, finally = {\n",
    "    })\n",
    "}"
   ]
  },
  {
   "cell_type": "code",
   "execution_count": 3,
   "id": "36affa22-b961-4978-93fb-93fb0a02cfa5",
   "metadata": {},
   "outputs": [
    {
     "name": "stdout",
     "output_type": "stream",
     "text": [
      "[1] \"data/fpp3/aus_accommodation.csv\"\n",
      "[1] \"data/fpp3/aus_airpassengers.csv\"\n",
      "[1] \"data/fpp3/aus_arrivals.csv\"\n",
      "[1] \"data/fpp3/bank_calls.csv\"\n",
      "[1] \"data/fpp3/boston_marathon.csv\"\n",
      "[1] \"data/fpp3/canadian_gas.csv\"\n",
      "[1] \"data/fpp3/guinea_rice.csv\"\n",
      "[1] \"data/fpp3/insurance.csv\"\n",
      "[1] \"data/fpp3/prices.csv\"\n",
      "[1] \"data/fpp3/souvenirs.csv\"\n",
      "[1] \"data/fpp3/us_change.csv\"\n",
      "[1] \"data/fpp3/us_employment.csv\"\n",
      "[1] \"data/fpp3/us_gasoline.csv\"\n",
      "[1] \"data/tsibbledata/PBS.csv\"\n",
      "[1] \"data/tsibbledata/ansett.csv\"\n",
      "[1] \"data/tsibbledata/aus_livestock.csv\"\n",
      "[1] \"data/tsibbledata/aus_production.csv\"\n",
      "[1] \"data/tsibbledata/aus_retail.csv\"\n",
      "[1] \"data/tsibbledata/gafa_stock.csv\"\n",
      "[1] \"data/tsibbledata/global_economy.csv\"\n",
      "[1] \"data/tsibbledata/hh_budget.csv\"\n",
      "[1] \"data/tsibbledata/nyc_bikes.csv\"\n",
      "[1] \"data/tsibbledata/olympic_running.csv\"\n",
      "[1] \"data/tsibbledata/pelt.csv\"\n",
      "[1] \"data/tsibbledata/vic_elec.csv\"\n",
      "[1] \"data/tsibble/pedestrian.csv\"\n",
      "[1] \"data/tsibble/tourism.csv\"\n",
      "[1] \"data/fma/auto.csv\"\n",
      "[1] \"data/fma/bank.csv\"\n",
      "[1] \"data/fma/books.csv <-- error\"\n",
      "<simpleError in write_delim(x, file, delim = \",\", na = na, append = append, col_names = col_names,     quote = quote, escape = escape, eol = eol, num_threads = num_threads,     progress = progress): is.data.frame(x) is not TRUE>\n",
      "[1] \"data/fma/boston.csv <-- error\"\n",
      "<simpleError in write_delim(x, file, delim = \",\", na = na, append = append, col_names = col_names,     quote = quote, escape = escape, eol = eol, num_threads = num_threads,     progress = progress): is.data.frame(x) is not TRUE>\n",
      "[1] \"data/fma/capital.csv <-- error\"\n",
      "<simpleError in write_delim(x, file, delim = \",\", na = na, append = append, col_names = col_names,     quote = quote, escape = escape, eol = eol, num_threads = num_threads,     progress = progress): is.data.frame(x) is not TRUE>\n",
      "[1] \"data/fma/cement.csv\"\n",
      "[1] \"data/fma/dexter.csv\"\n",
      "[1] \"data/fma/econsumption.csv\"\n",
      "[1] \"data/fma/ibm.csv <-- error\"\n",
      "<simpleError in write_delim(x, file, delim = \",\", na = na, append = append, col_names = col_names,     quote = quote, escape = escape, eol = eol, num_threads = num_threads,     progress = progress): is.data.frame(x) is not TRUE>\n",
      "[1] \"data/fma/kkong.csv\"\n",
      "[1] \"data/fma/mortal.csv\"\n",
      "[1] \"data/fma/motel.csv <-- error\"\n",
      "<simpleError in write_delim(x, file, delim = \",\", na = na, append = append, col_names = col_names,     quote = quote, escape = escape, eol = eol, num_threads = num_threads,     progress = progress): is.data.frame(x) is not TRUE>\n",
      "[1] \"data/fma/olympic.csv\"\n",
      "[1] \"data/fma/ozone.csv\"\n",
      "[1] \"data/fma/pcv.csv\"\n",
      "[1] \"data/fma/pulpprice.csv\"\n",
      "[1] \"data/fma/running.csv\"\n",
      "[1] \"data/fma/texasgas.csv\"\n"
     ]
    }
   ],
   "source": [
    "for (pname in list(\"fpp3\", \"tsibbledata\", \"tsibble\", \"fma\")) {\n",
    "    x <- as.data.frame(data(package=pname)[3])\n",
    "    for (objname in x$results.Item) {\n",
    "        ts2csv(objname, pname)\n",
    "    }\n",
    "}"
   ]
  },
  {
   "cell_type": "code",
   "execution_count": null,
   "id": "ef65a73d-7b45-496d-8a4f-762eb281f392",
   "metadata": {},
   "outputs": [],
   "source": []
  }
 ],
 "metadata": {
  "kernelspec": {
   "display_name": "R",
   "language": "R",
   "name": "r"
  },
  "language_info": {
   "codemirror_mode": "r",
   "file_extension": ".r",
   "mimetype": "text/x-r-source",
   "name": "R",
   "pygments_lexer": "r",
   "version": "4.1.3"
  }
 },
 "nbformat": 4,
 "nbformat_minor": 5
}
