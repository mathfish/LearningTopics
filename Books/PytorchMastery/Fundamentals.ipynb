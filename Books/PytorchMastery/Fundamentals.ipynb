{
  "nbformat": 4,
  "nbformat_minor": 0,
  "metadata": {
    "colab": {
      "provenance": [],
      "gpuType": "T4",
      "authorship_tag": "ABX9TyNPg53m+v5uGc8TR9hztqZ+",
      "include_colab_link": true
    },
    "kernelspec": {
      "name": "python3",
      "display_name": "Python 3"
    },
    "language_info": {
      "name": "python"
    },
    "accelerator": "GPU"
  },
  "cells": [
    {
      "cell_type": "markdown",
      "metadata": {
        "id": "view-in-github",
        "colab_type": "text"
      },
      "source": [
        "<a href=\"https://colab.research.google.com/github/mathfish/LearningTopics/blob/main/Books/PytorchMastery/Fundamentals.ipynb\" target=\"_parent\"><img src=\"https://colab.research.google.com/assets/colab-badge.svg\" alt=\"Open In Colab\"/></a>"
      ]
    },
    {
      "cell_type": "code",
      "execution_count": 2,
      "metadata": {
        "id": "_KqLs7VmFlwR"
      },
      "outputs": [],
      "source": [
        "import torch\n",
        "import pandas as pd\n",
        "import numpy as np\n",
        "import matplotlib.pyplot as plt\n",
        "import seaborn as sns"
      ]
    },
    {
      "cell_type": "code",
      "source": [
        "# Torch Version  - note course had version 1.10.0+cu111\n",
        "print(torch.__version__)"
      ],
      "metadata": {
        "colab": {
          "base_uri": "https://localhost:8080/"
        },
        "id": "D8Y_IdFNHAYg",
        "outputId": "e5e3f31d-fccc-4cc1-fff3-5b6c65e82b75"
      },
      "execution_count": 2,
      "outputs": [
        {
          "output_type": "stream",
          "name": "stdout",
          "text": [
            "2.1.0+cu121\n"
          ]
        }
      ]
    },
    {
      "cell_type": "markdown",
      "source": [
        "## Tensors\n",
        "\n",
        "* Tensors have dimensions `ndim`\n",
        "  * Scalars are 0 dimension\n",
        "  * Get dimension by `.shape`\n",
        "* Get value by `.item()`\n",
        "* Tensors can be random\n",
        "  * Many NN start with tensors randomly initialized\n",
        "  * `torch.rand(3, 4)`\n",
        "  * Can set the random seed in PyTorch as `torch.manual_seed(42)` and only affects the next PyTorch rand statement\n",
        "* Tensors can be initilized with zeros or ones\n",
        "  * `torch.zeros(size=...))`\n",
        "  * `torch.ones(size=...))`\n",
        "  * Can also create based on another tensor: `torch.zeros_like(another_tensor)` or `ones_like`\n",
        "  \n",
        "* Tensors have a data type\n",
        "  * Can specify using `torch.tensor(..., dtype=torch.float16)`\n",
        "  * By default is `float32`\n",
        "  * Can change type of tensor with `.type()`\n",
        "* Can make a tensor from a range `torch.arange(start=1, end=20, step=2)`\n",
        "* Other important parameters\n",
        "  * `device` - cpu or gpu (or apple metal). Tensors must be on the same device\n",
        "  * `requires_grad` - track gradients with operations\n",
        "* Main errors associated with Tensors\n",
        "  * Tensors not right dtype\n",
        "  * Tensors not right shape\n",
        "  * Tensors not on the right device"
      ],
      "metadata": {
        "id": "c0M9tNlRHG8t"
      }
    },
    {
      "cell_type": "code",
      "source": [
        "# scalar\n",
        "scalar = torch.tensor(7)\n",
        "vector = torch.tensor([7, 7])\n",
        "matrix = torch.tensor([[7, 8], [9, 10]])\n",
        "tensor = torch.tensor([[[1, 3], [1, 2]],[[11, 31], [11, 21]]])"
      ],
      "metadata": {
        "id": "Rgwfb1tiXBiu"
      },
      "execution_count": 3,
      "outputs": []
    },
    {
      "cell_type": "code",
      "source": [
        "# random tensor\n",
        "random_tensor = torch.rand(size=(3, 4))"
      ],
      "metadata": {
        "id": "N-_5RmrkYa-A"
      },
      "execution_count": 4,
      "outputs": []
    },
    {
      "cell_type": "code",
      "source": [
        "# initialized with zeros and ones\n",
        "zeros = torch.zeros(size=(3, 4))\n",
        "ones = torch.ones(size=(3, 4))"
      ],
      "metadata": {
        "id": "Lun9rpZ6Yco4"
      },
      "execution_count": 5,
      "outputs": []
    },
    {
      "cell_type": "code",
      "source": [
        "# tensor from a range\n",
        "t1 = torch.arange(1, 10, 2)\n",
        "torch.ones_like(t1)"
      ],
      "metadata": {
        "colab": {
          "base_uri": "https://localhost:8080/"
        },
        "id": "B-0r2I8ka6FZ",
        "outputId": "37b5b6f5-d4c1-43a0-b0ee-bfd49e3919ca"
      },
      "execution_count": 6,
      "outputs": [
        {
          "output_type": "execute_result",
          "data": {
            "text/plain": [
              "tensor([1, 1, 1, 1, 1])"
            ]
          },
          "metadata": {},
          "execution_count": 6
        }
      ]
    },
    {
      "cell_type": "code",
      "source": [
        "# Data types\n",
        "flt32_tensor = torch.tensor(15) # default is float32\n",
        "flt16_tensor = flt32_tensor.type(torch.float16)\n",
        "flt32_tensor.dtype, flt16_tensor.dtype"
      ],
      "metadata": {
        "colab": {
          "base_uri": "https://localhost:8080/"
        },
        "id": "pKWCpo1AcFU3",
        "outputId": "32aa3d5a-f636-4892-f9e1-a6e23a764baa"
      },
      "execution_count": 7,
      "outputs": [
        {
          "output_type": "execute_result",
          "data": {
            "text/plain": [
              "(torch.int64, torch.float16)"
            ]
          },
          "metadata": {},
          "execution_count": 7
        }
      ]
    },
    {
      "cell_type": "markdown",
      "source": [
        "## Tensor Operations\n",
        "\n",
        "* Includes addition, subtraction, element wise mult, division, and matrix mult / dot product\n",
        "  * Note: can use `@` for matmul\n",
        "  * Probably should use `matmul` or `torch.mm` for clarity\n",
        "* Can use PyTorch functions (`torch.add`) or use direct operations (e.g. +)\n",
        "* Aggregations: min, max, mean, sum, etc\n",
        "  * Can be `torch.sum` or on the tensor itself\n",
        "  * Can also use `argmin` and `argmax`\n",
        "* Shape Adjustment\n",
        "  * `.T` for transpose\n",
        "  * `.reshape` for reshaping a tensor\n",
        "  * `.view` for reshaping but sharing the same memory as original tensor. So changing the view will change the original tensor\n",
        "  * `.stack` and based on `dim=...` will either stack tensors together horizontally or vertically\n",
        "    * Can also use `hstack` and `vstack`\n",
        "    * vstack = dim=0 but hstack != dim=1\n",
        "  * `.squeeze` to remove all 1 dimensions removed\n",
        "  * `unsqueeze` to add single dimension at a target dim\n",
        "  * `.permute` view of tensor with dimensions permutated / changed by specification"
      ],
      "metadata": {
        "id": "52P1yQP7fioF"
      }
    },
    {
      "cell_type": "code",
      "source": [
        "# Python operators\n",
        "t1 = torch.tensor([1, 2, 3]\n",
        "                  )\n",
        "t1 + 10, t1 * 10"
      ],
      "metadata": {
        "colab": {
          "base_uri": "https://localhost:8080/"
        },
        "id": "9l_UAqG0gZST",
        "outputId": "b21627ad-6db4-47bf-c6e3-02804c2653c9"
      },
      "execution_count": 8,
      "outputs": [
        {
          "output_type": "execute_result",
          "data": {
            "text/plain": [
              "(tensor([11, 12, 13]), tensor([10, 20, 30]))"
            ]
          },
          "metadata": {},
          "execution_count": 8
        }
      ]
    },
    {
      "cell_type": "code",
      "source": [
        "# PyTorch operators\n",
        "torch.add(t1, 10), torch.mul(t1, 10)"
      ],
      "metadata": {
        "colab": {
          "base_uri": "https://localhost:8080/"
        },
        "id": "afoR1pHKlWz0",
        "outputId": "f3325afb-7261-43b8-a000-2a14202ac084"
      },
      "execution_count": 9,
      "outputs": [
        {
          "output_type": "execute_result",
          "data": {
            "text/plain": [
              "(tensor([11, 12, 13]), tensor([10, 20, 30]))"
            ]
          },
          "metadata": {},
          "execution_count": 9
        }
      ]
    },
    {
      "cell_type": "code",
      "source": [
        "# Element-wise multiplication\n",
        "t2 = torch.tensor([3, 4, 5])\n",
        "m1 = t1 * t2\n",
        "\n",
        "# matrix mult\n",
        "m2 = torch.matmul(t1, t2)\n",
        "\n",
        "m1, m2, t1 @ t2"
      ],
      "metadata": {
        "colab": {
          "base_uri": "https://localhost:8080/"
        },
        "id": "pargZi_pl0MM",
        "outputId": "e09a6b7d-7b65-4d34-b07b-334f9c5fc7c3"
      },
      "execution_count": 10,
      "outputs": [
        {
          "output_type": "execute_result",
          "data": {
            "text/plain": [
              "(tensor([ 3,  8, 15]), tensor(26), tensor(26))"
            ]
          },
          "metadata": {},
          "execution_count": 10
        }
      ]
    },
    {
      "cell_type": "code",
      "source": [
        "# Aggregations\n",
        "t1, t1.max().item(), t1.sum().item(), t1.type(torch.float32).mean().item()"
      ],
      "metadata": {
        "colab": {
          "base_uri": "https://localhost:8080/"
        },
        "id": "Msgyfa-4mu2P",
        "outputId": "ea5f6e95-e8ad-4907-c03a-47d1f7a7e563"
      },
      "execution_count": 11,
      "outputs": [
        {
          "output_type": "execute_result",
          "data": {
            "text/plain": [
              "(tensor([1, 2, 3]), 3, 6, 2.0)"
            ]
          },
          "metadata": {},
          "execution_count": 11
        }
      ]
    },
    {
      "cell_type": "code",
      "source": [
        "t1.argmax(), t1.argmin()"
      ],
      "metadata": {
        "colab": {
          "base_uri": "https://localhost:8080/"
        },
        "id": "SgSGuQAXrn5-",
        "outputId": "7cee6720-0841-4c08-c844-3cd00831dc4c"
      },
      "execution_count": 12,
      "outputs": [
        {
          "output_type": "execute_result",
          "data": {
            "text/plain": [
              "(tensor(2), tensor(0))"
            ]
          },
          "metadata": {},
          "execution_count": 12
        }
      ]
    },
    {
      "cell_type": "code",
      "source": [
        "x = torch.arange(1, 10)\n",
        "\n",
        "x, x.shape"
      ],
      "metadata": {
        "colab": {
          "base_uri": "https://localhost:8080/"
        },
        "id": "n1ENdg59spsq",
        "outputId": "7b98478e-7a53-4f02-ee91-29595a1b3f37"
      },
      "execution_count": 13,
      "outputs": [
        {
          "output_type": "execute_result",
          "data": {
            "text/plain": [
              "(tensor([1, 2, 3, 4, 5, 6, 7, 8, 9]), torch.Size([9]))"
            ]
          },
          "metadata": {},
          "execution_count": 13
        }
      ]
    },
    {
      "cell_type": "code",
      "source": [
        "# Add an extra dimension or change shape in general\n",
        "x.reshape(3, 3), x.reshape(1, 9)"
      ],
      "metadata": {
        "colab": {
          "base_uri": "https://localhost:8080/"
        },
        "id": "DhjWrxGNuH5G",
        "outputId": "976de1e1-4205-4194-a89f-d91c05546b0f"
      },
      "execution_count": 14,
      "outputs": [
        {
          "output_type": "execute_result",
          "data": {
            "text/plain": [
              "(tensor([[1, 2, 3],\n",
              "         [4, 5, 6],\n",
              "         [7, 8, 9]]),\n",
              " tensor([[1, 2, 3, 4, 5, 6, 7, 8, 9]]))"
            ]
          },
          "metadata": {},
          "execution_count": 14
        }
      ]
    },
    {
      "cell_type": "code",
      "source": [
        "# Change the view\n",
        "z = x.view(1, 9)\n",
        "z, z.shape"
      ],
      "metadata": {
        "colab": {
          "base_uri": "https://localhost:8080/"
        },
        "id": "u5bzNZwfuSEi",
        "outputId": "b680979a-f0d7-42a7-eb2f-e7c1e97535a9"
      },
      "execution_count": 15,
      "outputs": [
        {
          "output_type": "execute_result",
          "data": {
            "text/plain": [
              "(tensor([[1, 2, 3, 4, 5, 6, 7, 8, 9]]), torch.Size([1, 9]))"
            ]
          },
          "metadata": {},
          "execution_count": 15
        }
      ]
    },
    {
      "cell_type": "code",
      "source": [
        "# stack tensors\n",
        "torch.stack([x, x, x], dim=0).shape"
      ],
      "metadata": {
        "colab": {
          "base_uri": "https://localhost:8080/"
        },
        "id": "az-M490_u8gJ",
        "outputId": "ba53781e-da59-42d5-825b-ea230bf3ce9c"
      },
      "execution_count": 16,
      "outputs": [
        {
          "output_type": "execute_result",
          "data": {
            "text/plain": [
              "torch.Size([3, 9])"
            ]
          },
          "metadata": {},
          "execution_count": 16
        }
      ]
    },
    {
      "cell_type": "code",
      "source": [
        "torch.stack([x, x, x], dim=1).shape"
      ],
      "metadata": {
        "colab": {
          "base_uri": "https://localhost:8080/"
        },
        "id": "u7pvJewTvCYk",
        "outputId": "432f3b08-bcfa-4c6a-9250-cc89f940f8fb"
      },
      "execution_count": 17,
      "outputs": [
        {
          "output_type": "execute_result",
          "data": {
            "text/plain": [
              "torch.Size([9, 3])"
            ]
          },
          "metadata": {},
          "execution_count": 17
        }
      ]
    },
    {
      "cell_type": "code",
      "source": [
        "torch.vstack([x, x, x]).shape"
      ],
      "metadata": {
        "colab": {
          "base_uri": "https://localhost:8080/"
        },
        "id": "DGb98mnwvYEo",
        "outputId": "480b0b3a-9eb3-4432-96f0-c650a048d86f"
      },
      "execution_count": 18,
      "outputs": [
        {
          "output_type": "execute_result",
          "data": {
            "text/plain": [
              "torch.Size([3, 9])"
            ]
          },
          "metadata": {},
          "execution_count": 18
        }
      ]
    },
    {
      "cell_type": "code",
      "source": [
        "# Squeezing and Unsqueezing\n",
        "out = torch.tensor([[[4, 5],[2, 5]]])\n",
        "out_sq = out.squeeze()\n",
        "out.shape, out_sq.shape"
      ],
      "metadata": {
        "colab": {
          "base_uri": "https://localhost:8080/"
        },
        "id": "5q68EEByv0KQ",
        "outputId": "b616de13-43e4-4cc2-b940-73aa9b2deea8"
      },
      "execution_count": 26,
      "outputs": [
        {
          "output_type": "execute_result",
          "data": {
            "text/plain": [
              "(torch.Size([1, 2, 2]), torch.Size([2, 2]))"
            ]
          },
          "metadata": {},
          "execution_count": 26
        }
      ]
    },
    {
      "cell_type": "code",
      "source": [
        "out.shape, out_sq.shape, out_sq.unsqueeze(dim=0).shape, out_sq.unsqueeze(dim=1).shape"
      ],
      "metadata": {
        "colab": {
          "base_uri": "https://localhost:8080/"
        },
        "id": "B3gTnM8NwqM3",
        "outputId": "f6d1a347-657d-42fd-e0fc-f63e27c08ca2"
      },
      "execution_count": 25,
      "outputs": [
        {
          "output_type": "execute_result",
          "data": {
            "text/plain": [
              "(torch.Size([1, 2, 2]),\n",
              " torch.Size([2, 2]),\n",
              " torch.Size([1, 2, 2]),\n",
              " torch.Size([2, 1, 2]))"
            ]
          },
          "metadata": {},
          "execution_count": 25
        }
      ]
    },
    {
      "cell_type": "code",
      "source": [
        "# permute\n",
        "xx = torch.rand(size=(224, 224, 3)) # [height, width, color channel]\n",
        "xx_perm = xx.permute(2, 0, 1) # shifts axis 0->1, 1->2, 2->0\n",
        "\n",
        "xx.shape, xx_perm.shape\n"
      ],
      "metadata": {
        "colab": {
          "base_uri": "https://localhost:8080/"
        },
        "id": "ecHEHjl2pEqn",
        "outputId": "1f06288a-45a3-4fb5-8c83-320041d407e7"
      },
      "execution_count": 27,
      "outputs": [
        {
          "output_type": "execute_result",
          "data": {
            "text/plain": [
              "(torch.Size([224, 224, 3]), torch.Size([3, 224, 224]))"
            ]
          },
          "metadata": {},
          "execution_count": 27
        }
      ]
    },
    {
      "cell_type": "markdown",
      "source": [
        "### Selecting Data in a Tensor\n",
        "* Indexing\n",
        "  * x[0, 0] is the same as x[0][0]\n",
        "  * Indexing is going into each dimension\n",
        "  * Can use `:` for all items in a dimension\n",
        "* PyTorch Tensors and Numpy\n",
        "  * `torch.from_numpy(ndarray)`\n",
        "  * `torch.Tensor.numpy()` to get numpy ndarray from Tensor\n",
        "  * Torch will create tensor as float64 when converting from numpy and will be float32 when you go from Tensor to numpy, by default\n",
        "  "
      ],
      "metadata": {
        "id": "wWANZbatqSqc"
      }
    },
    {
      "cell_type": "markdown",
      "source": [
        "### Device Use\n",
        "* Can run `!nvidia-smi` to see GPU type if you are using a GPU for device\n",
        "* `torch.cuda.is_available()` Check for GPU access by PyTorch\n",
        "* Device agnostic code\n",
        "  * You may not always have access to a GPU\n",
        "  * But if available, you want to use it\n",
        "  * `device = \"cuda\" if torch.cuda.is_available() else \"cpu\"`\n",
        "  * Can also count the number of gpus as `torch.cuda.device_count()`\n",
        "  * Can use `Tensor.to(device)` to set up device on existing tensor\n",
        "  * Numpy arrays must be on cpu -> `tensor_gpu.numpy()` will give error. Need to move to cpu first by calling `.cpu()` on tensor\n",
        "* Can also use multiple GPUs"
      ],
      "metadata": {
        "id": "RrfO7hw5qkbQ"
      }
    },
    {
      "cell_type": "code",
      "source": [
        "!nvidia-smi"
      ],
      "metadata": {
        "colab": {
          "base_uri": "https://localhost:8080/"
        },
        "id": "9Wx4zgGvvjAz",
        "outputId": "600b0ccb-7d02-4c62-df64-5d42cf870d5b"
      },
      "execution_count": 1,
      "outputs": [
        {
          "output_type": "stream",
          "name": "stdout",
          "text": [
            "Thu Feb 22 12:25:58 2024       \n",
            "+---------------------------------------------------------------------------------------+\n",
            "| NVIDIA-SMI 535.104.05             Driver Version: 535.104.05   CUDA Version: 12.2     |\n",
            "|-----------------------------------------+----------------------+----------------------+\n",
            "| GPU  Name                 Persistence-M | Bus-Id        Disp.A | Volatile Uncorr. ECC |\n",
            "| Fan  Temp   Perf          Pwr:Usage/Cap |         Memory-Usage | GPU-Util  Compute M. |\n",
            "|                                         |                      |               MIG M. |\n",
            "|=========================================+======================+======================|\n",
            "|   0  Tesla T4                       Off | 00000000:00:04.0 Off |                    0 |\n",
            "| N/A   43C    P8              11W /  70W |      0MiB / 15360MiB |      0%      Default |\n",
            "|                                         |                      |                  N/A |\n",
            "+-----------------------------------------+----------------------+----------------------+\n",
            "                                                                                         \n",
            "+---------------------------------------------------------------------------------------+\n",
            "| Processes:                                                                            |\n",
            "|  GPU   GI   CI        PID   Type   Process name                            GPU Memory |\n",
            "|        ID   ID                                                             Usage      |\n",
            "|=======================================================================================|\n",
            "|  No running processes found                                                           |\n",
            "+---------------------------------------------------------------------------------------+\n"
          ]
        }
      ]
    },
    {
      "cell_type": "code",
      "source": [
        "torch.cuda.is_available()"
      ],
      "metadata": {
        "colab": {
          "base_uri": "https://localhost:8080/"
        },
        "id": "EeU6EuXzx5dl",
        "outputId": "bbe9f1dc-bc85-4df4-bd9a-6122ceae7d96"
      },
      "execution_count": 3,
      "outputs": [
        {
          "output_type": "execute_result",
          "data": {
            "text/plain": [
              "True"
            ]
          },
          "metadata": {},
          "execution_count": 3
        }
      ]
    },
    {
      "cell_type": "code",
      "source": [
        "# putting tensors and models on the gpu\n",
        "device = \"cuda\" if torch.cuda.is_available() else \"cpu\""
      ],
      "metadata": {
        "id": "FPs9o4OEyWmX"
      },
      "execution_count": 4,
      "outputs": []
    },
    {
      "cell_type": "code",
      "source": [
        "tensor_cpu = torch.tensor([1, 2, 3], device=\"cpu\")\n",
        "\n",
        "tensor_cpu, tensor_cpu.device"
      ],
      "metadata": {
        "colab": {
          "base_uri": "https://localhost:8080/"
        },
        "id": "qvZ1TFJTzGxz",
        "outputId": "7cb20b7a-78f7-45da-d385-db7c7f10f03a"
      },
      "execution_count": 6,
      "outputs": [
        {
          "output_type": "execute_result",
          "data": {
            "text/plain": [
              "(tensor([1, 2, 3]), device(type='cpu'))"
            ]
          },
          "metadata": {},
          "execution_count": 6
        }
      ]
    },
    {
      "cell_type": "code",
      "source": [
        "tensor_gpu = tensor_cpu.to(device)\n",
        "\n",
        "tensor_gpu.device, tensor_cpu.device"
      ],
      "metadata": {
        "colab": {
          "base_uri": "https://localhost:8080/"
        },
        "id": "AMyVjaVjzV1O",
        "outputId": "bdb25515-de7d-417b-868c-292597b66304"
      },
      "execution_count": 8,
      "outputs": [
        {
          "output_type": "execute_result",
          "data": {
            "text/plain": [
              "(device(type='cuda', index=0), device(type='cpu'))"
            ]
          },
          "metadata": {},
          "execution_count": 8
        }
      ]
    },
    {
      "cell_type": "code",
      "source": [
        "tensor_cpu_again = tensor_gpu.cpu()\n",
        "\n",
        "tensor_cpu_again.device, tensor_gpu.device"
      ],
      "metadata": {
        "colab": {
          "base_uri": "https://localhost:8080/"
        },
        "id": "BlWTETpPzm_n",
        "outputId": "a8667f6e-5ca8-490e-da51-9c918f25f311"
      },
      "execution_count": 10,
      "outputs": [
        {
          "output_type": "execute_result",
          "data": {
            "text/plain": [
              "(device(type='cpu'), device(type='cuda', index=0))"
            ]
          },
          "metadata": {},
          "execution_count": 10
        }
      ]
    },
    {
      "cell_type": "code",
      "source": [],
      "metadata": {
        "id": "qUTMJGSB0Zkt"
      },
      "execution_count": null,
      "outputs": []
    }
  ]
}