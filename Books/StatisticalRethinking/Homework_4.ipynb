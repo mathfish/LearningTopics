{
 "cells": [
  {
   "cell_type": "code",
   "execution_count": 29,
   "metadata": {},
   "outputs": [],
   "source": [
    "import numpy as np\n",
    "import pandas as pd\n",
    "import arviz as az\n",
    "import pymc3 as pm\n",
    "import matplotlib.pyplot as plt\n",
    "from causalgraphicalmodels import CausalGraphicalModel\n",
    "import daft\n",
    "from scipy import stats\n",
    "from theano import shared\n",
    "import re"
   ]
  },
  {
   "cell_type": "markdown",
   "metadata": {},
   "source": [
    "**1. Entropy values**   \n",
    "$-\\sum_{i=1}^n p_i log(p_i)$"
   ]
  },
  {
   "cell_type": "code",
   "execution_count": 13,
   "metadata": {},
   "outputs": [
    {
     "data": {
      "text/html": [
       "<div>\n",
       "<style scoped>\n",
       "    .dataframe tbody tr th:only-of-type {\n",
       "        vertical-align: middle;\n",
       "    }\n",
       "\n",
       "    .dataframe tbody tr th {\n",
       "        vertical-align: top;\n",
       "    }\n",
       "\n",
       "    .dataframe thead th {\n",
       "        text-align: right;\n",
       "    }\n",
       "</style>\n",
       "<table border=\"1\" class=\"dataframe\">\n",
       "  <thead>\n",
       "    <tr style=\"text-align: right;\">\n",
       "      <th></th>\n",
       "      <th>bird_a</th>\n",
       "      <th>bird_b</th>\n",
       "      <th>bird_c</th>\n",
       "      <th>bird_d</th>\n",
       "      <th>bird_e</th>\n",
       "      <th>entropy</th>\n",
       "    </tr>\n",
       "  </thead>\n",
       "  <tbody>\n",
       "    <tr>\n",
       "      <th>island_1</th>\n",
       "      <td>0.20</td>\n",
       "      <td>0.20</td>\n",
       "      <td>0.20</td>\n",
       "      <td>0.200</td>\n",
       "      <td>0.200</td>\n",
       "      <td>1.609438</td>\n",
       "    </tr>\n",
       "    <tr>\n",
       "      <th>island_2</th>\n",
       "      <td>0.80</td>\n",
       "      <td>0.10</td>\n",
       "      <td>0.05</td>\n",
       "      <td>0.025</td>\n",
       "      <td>0.025</td>\n",
       "      <td>0.743004</td>\n",
       "    </tr>\n",
       "    <tr>\n",
       "      <th>island_3</th>\n",
       "      <td>0.05</td>\n",
       "      <td>0.15</td>\n",
       "      <td>0.70</td>\n",
       "      <td>0.050</td>\n",
       "      <td>0.050</td>\n",
       "      <td>0.983600</td>\n",
       "    </tr>\n",
       "  </tbody>\n",
       "</table>\n",
       "</div>"
      ],
      "text/plain": [
       "          bird_a  bird_b  bird_c  bird_d  bird_e   entropy\n",
       "island_1    0.20    0.20    0.20   0.200   0.200  1.609438\n",
       "island_2    0.80    0.10    0.05   0.025   0.025  0.743004\n",
       "island_3    0.05    0.15    0.70   0.050   0.050  0.983600"
      ]
     },
     "execution_count": 13,
     "metadata": {},
     "output_type": "execute_result"
    }
   ],
   "source": [
    "bird_data = {'bird_a': [.2, .8, .05], 'bird_b': [.2, .1, .15], 'bird_c': [.2, .05, .7], 'bird_d': [.2, .025, .05], 'bird_e': [.2, .025, .05]}\n",
    "bird_df = pd.DataFrame(bird_data, index=['island_1', 'island_2', 'island_3'])\n",
    "bird_df['entropy'] = -1 * (np.log(bird_df)*bird_df).sum(axis=1)\n",
    "bird_df"
   ]
  },
  {
   "cell_type": "markdown",
   "metadata": {},
   "source": [
    "Island 1 has the most uncertainty in its distribution of birds since each bird type is equal. The other two islands has less uncertainty due to a large proportion of birds occuring for a particular type. "
   ]
  },
  {
   "cell_type": "markdown",
   "metadata": {},
   "source": [
    "**KL Divergence**   \n",
    "$\\sum_i p_i \\left( \\frac{p_i}{q_i} \\right)$"
   ]
  },
  {
   "cell_type": "code",
   "execution_count": 57,
   "metadata": {},
   "outputs": [],
   "source": [
    "def calc_kl_div(base_island):\n",
    "    pattern_find = re.findall('\\d$', base_island)\n",
    "    base_num = pattern_find[0]\n",
    "    islands = set(['island_1', 'island_2', 'island_3'])\n",
    "    island_df = bird_df.loc[:, ['bird_a', 'bird_b', 'bird_c', 'bird_d', 'bird_e']].T\n",
    "    div_df = pd.DataFrame()\n",
    "    for island in islands - set([base_island]):\n",
    "        inum = re.findall('\\d$', island)[0]\n",
    "        div_df[f'KLD({base_num}, {inum})'] = [np.sum(island_df[base_island] * np.log(island_df[base_island] / island_df[island]))]\n",
    "        \n",
    "    return div_df"
   ]
  },
  {
   "cell_type": "code",
   "execution_count": 58,
   "metadata": {},
   "outputs": [],
   "source": [
    "klds = [calc_kl_div(f'island_{i}') for i in range(1, 4)]\n",
    "kld_df = pd.concat(klds, axis=1)"
   ]
  },
  {
   "cell_type": "code",
   "execution_count": 62,
   "metadata": {},
   "outputs": [
    {
     "data": {
      "text/html": [
       "<div>\n",
       "<style scoped>\n",
       "    .dataframe tbody tr th:only-of-type {\n",
       "        vertical-align: middle;\n",
       "    }\n",
       "\n",
       "    .dataframe tbody tr th {\n",
       "        vertical-align: top;\n",
       "    }\n",
       "\n",
       "    .dataframe thead th {\n",
       "        text-align: right;\n",
       "    }\n",
       "</style>\n",
       "<table border=\"1\" class=\"dataframe\">\n",
       "  <thead>\n",
       "    <tr style=\"text-align: right;\">\n",
       "      <th></th>\n",
       "      <th>KLD(2, 1)</th>\n",
       "      <th>KLD(3, 1)</th>\n",
       "      <th>KLD(1, 2)</th>\n",
       "      <th>KLD(3, 2)</th>\n",
       "      <th>KLD(1, 3)</th>\n",
       "      <th>KLD(2, 3)</th>\n",
       "    </tr>\n",
       "  </thead>\n",
       "  <tbody>\n",
       "    <tr>\n",
       "      <th>0</th>\n",
       "      <td>0.866434</td>\n",
       "      <td>0.625838</td>\n",
       "      <td>0.970406</td>\n",
       "      <td>1.838845</td>\n",
       "      <td>0.63876</td>\n",
       "      <td>2.010914</td>\n",
       "    </tr>\n",
       "  </tbody>\n",
       "</table>\n",
       "</div>"
      ],
      "text/plain": [
       "   KLD(2, 1)  KLD(3, 1)  KLD(1, 2)  KLD(3, 2)  KLD(1, 3)  KLD(2, 3)\n",
       "0   0.866434   0.625838   0.970406   1.838845    0.63876   2.010914"
      ]
     },
     "execution_count": 62,
     "metadata": {},
     "output_type": "execute_result"
    }
   ],
   "source": [
    "kld_df.loc[:, ['KLD(2, 1)', 'KLD(3, 1)', 'KLD(1, 2)', 'KLD(3, 2)', 'KLD(1, 3)', 'KLD(2, 3)']]"
   ]
  },
  {
   "cell_type": "markdown",
   "metadata": {},
   "source": [
    "Island 1 predicts the other islands the best        "
   ]
  },
  {
   "cell_type": "markdown",
   "metadata": {},
   "source": [
    "**2.** "
   ]
  },
  {
   "cell_type": "code",
   "execution_count": 63,
   "metadata": {},
   "outputs": [],
   "source": [
    "def inv_logit(x):\n",
    "    return np.exp(x) / (1 + np.exp(x))\n",
    "\n",
    "\n",
    "def sim_happiness(N_years=100, seed=1234):\n",
    "    np.random.seed(seed)\n",
    "\n",
    "    popn = pd.DataFrame(np.zeros((20 * 65, 3)), columns=[\"age\", \"happiness\", \"married\"])\n",
    "    popn.loc[:, \"age\"] = np.repeat(np.arange(65), 20)\n",
    "    popn.loc[:, \"happiness\"] = np.repeat(np.linspace(-2, 2, 20), 65)\n",
    "    popn.loc[:, \"married\"] = np.array(popn.loc[:, \"married\"].values, dtype=\"bool\")\n",
    "\n",
    "    for i in range(N_years):\n",
    "        # age population\n",
    "        popn.loc[:, \"age\"] += 1\n",
    "        # replace old folk with new folk\n",
    "        ind = popn.age == 65\n",
    "        popn.loc[ind, \"age\"] = 0\n",
    "        popn.loc[ind, \"married\"] = False\n",
    "        popn.loc[ind, \"happiness\"] = np.linspace(-2, 2, 20)\n",
    "\n",
    "        # do the work\n",
    "        elligible = (popn.married == 0) & (popn.age >= 18)\n",
    "        marry = (\n",
    "            np.random.binomial(1, inv_logit(popn.loc[elligible, \"happiness\"] - 4)) == 1\n",
    "        )\n",
    "        popn.loc[elligible, \"married\"] = marry\n",
    "\n",
    "    popn.sort_values(\"age\", inplace=True, ignore_index=True)\n",
    "\n",
    "    return popn"
   ]
  },
  {
   "cell_type": "code",
   "execution_count": 77,
   "metadata": {},
   "outputs": [],
   "source": [
    "popn = sim_happiness()\n",
    "adults = popn.loc[popn.age > 17, :]\n",
    "adults = adults.assign(A=(adults.age-18)/(65-18))"
   ]
  },
  {
   "cell_type": "code",
   "execution_count": 79,
   "metadata": {},
   "outputs": [
    {
     "name": "stderr",
     "output_type": "stream",
     "text": [
      "Auto-assigning NUTS sampler...\n",
      "Initializing NUTS using jitter+adapt_diag...\n",
      "Multiprocess sampling (2 chains in 2 jobs)\n",
      "NUTS: [sigma, bA, a]\n"
     ]
    },
    {
     "data": {
      "text/html": [
       "\n",
       "    <div>\n",
       "        <style>\n",
       "            /* Turns off some styling */\n",
       "            progress {\n",
       "                /* gets rid of default border in Firefox and Opera. */\n",
       "                border: none;\n",
       "                /* Needs to be in here for Safari polyfill so background images work as expected. */\n",
       "                background-size: auto;\n",
       "            }\n",
       "            .progress-bar-interrupted, .progress-bar-interrupted::-webkit-progress-bar {\n",
       "                background: #F44336;\n",
       "            }\n",
       "        </style>\n",
       "      <progress value='4000' class='' max='4000' style='width:300px; height:20px; vertical-align: middle;'></progress>\n",
       "      100.00% [4000/4000 00:05<00:00 Sampling 2 chains, 0 divergences]\n",
       "    </div>\n",
       "    "
      ],
      "text/plain": [
       "<IPython.core.display.HTML object>"
      ]
     },
     "metadata": {},
     "output_type": "display_data"
    },
    {
     "name": "stderr",
     "output_type": "stream",
     "text": [
      "Sampling 2 chains for 1_000 tune and 1_000 draw iterations (2_000 + 2_000 draws total) took 7 seconds.\n"
     ]
    }
   ],
   "source": [
    "mid = pd.Categorical(adults.loc[:, \"married\"].astype(int))\n",
    "\n",
    "with pm.Model() as m_6_9:\n",
    "    a = pm.Normal(\"a\", 0, 1, shape=2)\n",
    "    bA = pm.Normal(\"bA\", 0, 2)\n",
    "\n",
    "    mu = a[mid] + bA * adults.A.values\n",
    "    sigma = pm.Exponential(\"sigma\", 1)\n",
    "\n",
    "    happiness = pm.Normal(\"happiness\", mu, sigma, observed=adults.happiness.values)\n",
    "\n",
    "    m_6_9_trace = pm.sample(1000)"
   ]
  },
  {
   "cell_type": "code",
   "execution_count": 80,
   "metadata": {},
   "outputs": [
    {
     "name": "stderr",
     "output_type": "stream",
     "text": [
      "Auto-assigning NUTS sampler...\n",
      "Initializing NUTS using jitter+adapt_diag...\n",
      "Multiprocess sampling (2 chains in 2 jobs)\n",
      "NUTS: [sigma, bA, a]\n"
     ]
    },
    {
     "data": {
      "text/html": [
       "\n",
       "    <div>\n",
       "        <style>\n",
       "            /* Turns off some styling */\n",
       "            progress {\n",
       "                /* gets rid of default border in Firefox and Opera. */\n",
       "                border: none;\n",
       "                /* Needs to be in here for Safari polyfill so background images work as expected. */\n",
       "                background-size: auto;\n",
       "            }\n",
       "            .progress-bar-interrupted, .progress-bar-interrupted::-webkit-progress-bar {\n",
       "                background: #F44336;\n",
       "            }\n",
       "        </style>\n",
       "      <progress value='4000' class='' max='4000' style='width:300px; height:20px; vertical-align: middle;'></progress>\n",
       "      100.00% [4000/4000 00:03<00:00 Sampling 2 chains, 0 divergences]\n",
       "    </div>\n",
       "    "
      ],
      "text/plain": [
       "<IPython.core.display.HTML object>"
      ]
     },
     "metadata": {},
     "output_type": "display_data"
    },
    {
     "name": "stderr",
     "output_type": "stream",
     "text": [
      "Sampling 2 chains for 1_000 tune and 1_000 draw iterations (2_000 + 2_000 draws total) took 4 seconds.\n"
     ]
    }
   ],
   "source": [
    "with pm.Model() as m6_10:\n",
    "    a = pm.Normal(\"a\", 0, 1)\n",
    "    bA = pm.Normal(\"bA\", 0, 2)\n",
    "\n",
    "    mu = a + bA * adults.A.values\n",
    "    sigma = pm.Exponential(\"sigma\", 1)\n",
    "\n",
    "    happiness = pm.Normal(\"happiness\", mu, sigma, observed=adults.happiness.values)\n",
    "\n",
    "    trace_6_10 = pm.sample(1000)"
   ]
  },
  {
   "cell_type": "code",
   "execution_count": 86,
   "metadata": {},
   "outputs": [
    {
     "name": "stderr",
     "output_type": "stream",
     "text": [
      "/home/jonathan/.conda/envs/rethinking/lib/python3.8/site-packages/arviz/data/io_pymc3.py:87: FutureWarning: Using `from_pymc3` without the model will be deprecated in a future release. Not using the model will return less accurate and less useful results. Make sure you use the model argument or call from_pymc3 within a model context.\n",
      "  warnings.warn(\n",
      "/home/jonathan/.conda/envs/rethinking/lib/python3.8/site-packages/arviz/data/io_pymc3.py:87: FutureWarning: Using `from_pymc3` without the model will be deprecated in a future release. Not using the model will return less accurate and less useful results. Make sure you use the model argument or call from_pymc3 within a model context.\n",
      "  warnings.warn(\n"
     ]
    },
    {
     "data": {
      "text/html": [
       "<div>\n",
       "<style scoped>\n",
       "    .dataframe tbody tr th:only-of-type {\n",
       "        vertical-align: middle;\n",
       "    }\n",
       "\n",
       "    .dataframe tbody tr th {\n",
       "        vertical-align: top;\n",
       "    }\n",
       "\n",
       "    .dataframe thead th {\n",
       "        text-align: right;\n",
       "    }\n",
       "</style>\n",
       "<table border=\"1\" class=\"dataframe\">\n",
       "  <thead>\n",
       "    <tr style=\"text-align: right;\">\n",
       "      <th></th>\n",
       "      <th>rank</th>\n",
       "      <th>waic</th>\n",
       "      <th>p_waic</th>\n",
       "      <th>d_waic</th>\n",
       "      <th>weight</th>\n",
       "      <th>se</th>\n",
       "      <th>dse</th>\n",
       "      <th>warning</th>\n",
       "      <th>waic_scale</th>\n",
       "    </tr>\n",
       "  </thead>\n",
       "  <tbody>\n",
       "    <tr>\n",
       "      <th>&lt;pymc3.model.Model object at 0x7f06003f6070&gt;</th>\n",
       "      <td>0</td>\n",
       "      <td>2711.07</td>\n",
       "      <td>3.72388</td>\n",
       "      <td>0</td>\n",
       "      <td>1</td>\n",
       "      <td>36.369</td>\n",
       "      <td>0</td>\n",
       "      <td>False</td>\n",
       "      <td>deviance</td>\n",
       "    </tr>\n",
       "    <tr>\n",
       "      <th>&lt;pymc3.model.Model object at 0x7f05fe727c70&gt;</th>\n",
       "      <td>1</td>\n",
       "      <td>3037.48</td>\n",
       "      <td>2.34798</td>\n",
       "      <td>326.414</td>\n",
       "      <td>4.95384e-45</td>\n",
       "      <td>27.1539</td>\n",
       "      <td>33.0142</td>\n",
       "      <td>False</td>\n",
       "      <td>deviance</td>\n",
       "    </tr>\n",
       "  </tbody>\n",
       "</table>\n",
       "</div>"
      ],
      "text/plain": [
       "                                             rank     waic   p_waic   d_waic  \\\n",
       "<pymc3.model.Model object at 0x7f06003f6070>    0  2711.07  3.72388        0   \n",
       "<pymc3.model.Model object at 0x7f05fe727c70>    1  3037.48  2.34798  326.414   \n",
       "\n",
       "                                                   weight       se      dse  \\\n",
       "<pymc3.model.Model object at 0x7f06003f6070>            1   36.369        0   \n",
       "<pymc3.model.Model object at 0x7f05fe727c70>  4.95384e-45  27.1539  33.0142   \n",
       "\n",
       "                                             warning waic_scale  \n",
       "<pymc3.model.Model object at 0x7f06003f6070>   False   deviance  \n",
       "<pymc3.model.Model object at 0x7f05fe727c70>   False   deviance  "
      ]
     },
     "execution_count": 86,
     "metadata": {},
     "output_type": "execute_result"
    }
   ],
   "source": [
    "m_6_9.name = \"model_6_9\"\n",
    "m6_10.name = \"model_6_10\"\n",
    "az.compare({m_6_9: m_6_9_trace, m6_10: trace_6_10}, ic='waic', scale='deviance')"
   ]
  },
  {
   "cell_type": "markdown",
   "metadata": {},
   "source": [
    "Model 6_9 conditions on a collider but by WAIC is the model that will yield better predictions. This is reasonable as by conditioning on the collider has opened up age information into the happiness result. However WAIC does not say anything about causality and cannot be used to choose a better model for intervention. "
   ]
  },
  {
   "cell_type": "markdown",
   "metadata": {},
   "source": [
    "**3.**"
   ]
  },
  {
   "cell_type": "code",
   "execution_count": null,
   "metadata": {},
   "outputs": [],
   "source": []
  }
 ],
 "metadata": {
  "kernelspec": {
   "display_name": "Python 3",
   "language": "python",
   "name": "python3"
  },
  "language_info": {
   "codemirror_mode": {
    "name": "ipython",
    "version": 3
   },
   "file_extension": ".py",
   "mimetype": "text/x-python",
   "name": "python",
   "nbconvert_exporter": "python",
   "pygments_lexer": "ipython3",
   "version": "3.8.6"
  }
 },
 "nbformat": 4,
 "nbformat_minor": 4
}
