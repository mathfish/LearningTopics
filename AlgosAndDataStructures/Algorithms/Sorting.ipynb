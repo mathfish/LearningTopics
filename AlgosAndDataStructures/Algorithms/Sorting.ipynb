{
 "cells": [
  {
   "cell_type": "code",
   "execution_count": 1,
   "id": "7023ee56-9699-4b3a-9cdd-2b81d2c74b9e",
   "metadata": {},
   "outputs": [],
   "source": [
    "import numpy as np"
   ]
  },
  {
   "cell_type": "markdown",
   "id": "21147982-f9d2-451d-bc27-37f72cb70ff2",
   "metadata": {},
   "source": [
    "# Sorting Algorithms\n",
    "Notes and Implementations"
   ]
  },
  {
   "cell_type": "code",
   "execution_count": 2,
   "id": "438bc048-f950-4c9c-9e21-bd718a967b01",
   "metadata": {},
   "outputs": [],
   "source": [
    "def get_rand_ints(num=50, sort=False):\n",
    "    int_list = np.random.randint(low=-10, high=100, size=num)\n",
    "    if sort:\n",
    "        int_list = np.sort(int_list)\n",
    "    print(f\"Unsorted List:\\n{int_list}\")\n",
    "    return int_list.tolist()\n"
   ]
  },
  {
   "cell_type": "markdown",
   "id": "436e82a8-6ef4-4bb6-a8ac-3fa5da38c29f",
   "metadata": {},
   "source": [
    "## Selection Sort\n",
    "Walk array and for each place $i$ in the array of size $n$, find the smallest value amongst the other $n-1$ values. If that value is smaller than the $i$, swap. Continue until array is walked. Will sort in place.\n",
    "\n",
    "Time: $O(n^2)$ - Avg and Worst case  \n",
    "Space: $O(1)$"
   ]
  },
  {
   "cell_type": "code",
   "execution_count": 11,
   "id": "9521d9e8-fa4d-40a6-ae6e-5a104dc9b67c",
   "metadata": {},
   "outputs": [
    {
     "name": "stdout",
     "output_type": "stream",
     "text": [
      "Unsorted List:\n",
      "[49 53 33 45 49 -6 -7 -6 65 49 18 75 66 29 98]\n",
      "Sorted list:\n",
      "[-7 -6 -6 18 29 33 45 49 49 49 53 65 66 75 98]\n"
     ]
    }
   ],
   "source": [
    "num_list = get_rand_ints(15)\n",
    "\n",
    "for i in range(len(num_list)):\n",
    "    for j in range(i+1, len(num_list)):\n",
    "        if num_list[j] < num_list[i]:\n",
    "            i_val = num_list[i]\n",
    "            num_list[i] = num_list[j]\n",
    "            num_list[j] = i_val\n",
    "            \n",
    "print(f\"Sorted list:\\n{np.array(num_list)}\")"
   ]
  },
  {
   "cell_type": "markdown",
   "id": "07d80869-cbd6-4f83-8315-6908bb0caf85",
   "metadata": {},
   "source": [
    "## Insertion Sort\n",
    "Walks array, separating the array into 2 parts: sorted and unsorted. Takes elements from the unsorted portion of the array and moves them to the correct sequential order in the sorted portion of the array. Stops when the unsorted portion is empty. Sorts elements in-place.   \n",
    "\n",
    "Time: $O(n^2)$ - Avg and Worst case  \n",
    "Space: $O(1)$"
   ]
  },
  {
   "cell_type": "code",
   "execution_count": 10,
   "id": "8d735fc5-520b-4370-8962-4c834a33566d",
   "metadata": {},
   "outputs": [
    {
     "name": "stdout",
     "output_type": "stream",
     "text": [
      "Unsorted List:\n",
      "[25  4 11 11 88 26 56 75 70 47 93 58 41 27 89]\n",
      "Sorted List:\n",
      "[ 4 11 11 25 26 27 41 47 56 58 70 75 88 89 93]\n"
     ]
    }
   ],
   "source": [
    "int_list = get_rand_ints(15)\n",
    "\n",
    "for i in range(1,len(int_list)):\n",
    "    val = int_list[i]\n",
    "    ptr = i-1\n",
    "    while ptr >= 0 and int_list[ptr] > val:\n",
    "        #need to move value at ptr up to make room for val. Will have value duplicated at ptr and ptr+1 until next iteration\n",
    "        int_list[ptr+1] = int_list[ptr]\n",
    "        ptr-=1\n",
    "    \n",
    "    #insert val into correct place\n",
    "    int_list[ptr+1] = val\n",
    "    \n",
    "print(f\"Sorted List:\\n{np.array(int_list)}\")"
   ]
  },
  {
   "cell_type": "markdown",
   "id": "7e31a0d9-d6b6-459c-9146-03f457dce062",
   "metadata": {},
   "source": [
    "## Bubble Sort\n",
    "Sweep through array starting at the beginning of the array and swap elements if $n_1 > n_0$. Will need to do $n \\times n-1$ passes \n",
    "\n",
    "Time: $O(n^2)$ - Avg and Worst case  \n",
    "Space: $O(1)$"
   ]
  },
  {
   "cell_type": "code",
   "execution_count": 5,
   "id": "505a719c-b1a8-4f24-824d-b54eb64dad45",
   "metadata": {},
   "outputs": [
    {
     "name": "stdout",
     "output_type": "stream",
     "text": [
      "Unsorted List:\n",
      "[81 50 22 39 92 44 32 70 76 79 -6 77 29 87 89]\n",
      "Sorted List:\n",
      "[-6 22 29 32 39 44 50 70 76 77 79 81 87 89 92]\n"
     ]
    }
   ],
   "source": [
    "num_list = get_rand_ints(15)\n",
    "\n",
    "for i in range(1, len(num_list)):\n",
    "    for j in range(0, len(num_list) - i):\n",
    "        if num_list[j] > num_list[j+1]:\n",
    "            jp1_val = num_list[j+1]\n",
    "            num_list[j+1] = num_list[j]\n",
    "            num_list[j] = jp1_val\n",
    "            \n",
    "print(f\"Sorted List:\\n{np.array(num_list)}\")"
   ]
  },
  {
   "cell_type": "markdown",
   "id": "afb8e34f-1d91-4840-b7f5-bba9730b1c93",
   "metadata": {},
   "source": [
    "## Merge Sort\n",
    "A sorting method that recursively splits the list in-half until lists of size 1 are produced. Then a merge method is called to combine two sorted lists, initially consisting of two single element lists, by looping over the two sublists and inserting into the main list the correct value by order. Sorts elements in-place.  \n",
    "\n",
    "Time: $O(nlog(n))$ - Average and Worst case   \n",
    "Space: $O(n)$"
   ]
  },
  {
   "cell_type": "code",
   "execution_count": 15,
   "id": "e8c83e7f-ee5e-4102-9ce2-024b90b34c17",
   "metadata": {},
   "outputs": [
    {
     "name": "stdout",
     "output_type": "stream",
     "text": [
      "Unsorted List:\n",
      "[82 -3 58 -7 75 65 51 24  4 28 63 28 85 19 56 -4 60 49 99 15  0 86 78 19\n",
      "  4 27 37 86 56 32  7 96 33 19 44  3 59 25 79 30 60 52 81 18 72 22 78 14\n",
      " -8  2]\n",
      "\n",
      " Sorted List:\n",
      "[-8 -7 -4 -3  0  2  3  4  4  7 14 15 18 19 19 19 22 24 25 27 28 28 30 32\n",
      " 33 37 44 49 51 52 56 56 58 59 60 60 63 65 72 75 78 78 79 81 82 85 86 86\n",
      " 96 99]\n"
     ]
    }
   ],
   "source": [
    "def merge(l, a, b, c):\n",
    "    '''Combines sorted sub-arrays l[a:b+1] (endpoint exclusive) and l[b+1:c+1] into sorted sub-array l[a:c+1]'''\n",
    "    #create two lists left, right from main list\n",
    "    left = l[a:b+1]\n",
    "    right = l[b+1:c+1]\n",
    "    n_left = b-a+1\n",
    "    n_right = c-b\n",
    "    \n",
    "    ileft = 0\n",
    "    iright = 0\n",
    "    # loop for full range of elements and insert correct value from sublists into main lists in ascending order\n",
    "    for i in range(a, c+1):\n",
    "        if left[ileft] <= right[iright]:\n",
    "            l[i] = left[ileft]\n",
    "            ileft+=1\n",
    "        else:\n",
    "            l[i] = right[iright]\n",
    "            iright+=1\n",
    "        \n",
    "        # if either left or right index is greater than respective list length, \n",
    "        #  append remaining values in the other list to main list\n",
    "        if ileft >= n_left and iright < n_right:\n",
    "            l[i+1:c+1] = right[iright:]\n",
    "            break\n",
    "        elif iright >= n_right and ileft < n_left:\n",
    "            l[i+1:c+1] = left[ileft:]\n",
    "            break\n",
    "    return l\n",
    "\n",
    "def merge_sort(l, a, c):\n",
    "    # do nothing when single element list, i.e. a=c\n",
    "    if a < c:\n",
    "        mid_pt = (a + c) // 2\n",
    "        merge_sort(l, a, mid_pt)\n",
    "        merge_sort(l, mid_pt+1, c)\n",
    "        merge(l, a, mid_pt, c)\n",
    "        \n",
    "int_list = get_rand_ints()\n",
    "merge_sort(int_list, 0, len(int_list)-1)\n",
    "\n",
    "print(f\"\\n Sorted List:\\n{np.array(int_list)}\")"
   ]
  },
  {
   "cell_type": "markdown",
   "id": "22358431-cc12-4360-85d6-d2b81c063349",
   "metadata": {},
   "source": [
    "## QuickSort \n",
    "In a given array, choose a random partition point (here the midpoint). Move all values less than this partition value/point to the left and all values greater to the right. Recursively perform this partitioning again on the left half of the list $[a, part\\_ind]$ and on the right half of the list $[part\\_ind+1, b]$. While do this recursive process until left and right list each consist of one value. \n",
    "\n",
    "Time: $O(nlog(n))$ - Average, $O(n^2)$ - Worst   \n",
    "Space: $O(1)$"
   ]
  },
  {
   "cell_type": "code",
   "execution_count": 27,
   "id": "6854e3d6-a6b3-489b-9925-3cc151ef3a47",
   "metadata": {},
   "outputs": [],
   "source": [
    "def get_partition(arr, left, right):\n",
    "    p_val = arr[left + (right - left) // 2]\n",
    "    \n",
    "    while left <= right:\n",
    "        while arr[left] < p_val: \n",
    "            left+=1\n",
    "        while arr[right] > p_val: \n",
    "            right-=1\n",
    "        \n",
    "        if left <= right:\n",
    "            l_val = arr[left]\n",
    "            arr[left] = arr[right]\n",
    "            arr[right] = l_val\n",
    "            left+=1\n",
    "            right-=1\n",
    "    \n",
    "    return left-1\n",
    "\n",
    "def quick_sort(arr, left, right):\n",
    "    p_ind = get_partition(arr, left, right)\n",
    "    if left < p_ind: \n",
    "        quick_sort(arr, left, p_ind)\n",
    "    if right > p_ind+1:\n",
    "        quick_sort(arr, p_ind+1, right)\n",
    "    "
   ]
  },
  {
   "cell_type": "code",
   "execution_count": 28,
   "id": "db61c128-020e-4202-80be-158c5ad4d163",
   "metadata": {},
   "outputs": [
    {
     "name": "stdout",
     "output_type": "stream",
     "text": [
      "Unsorted List:\n",
      "[77 37 85 55 10 98 17 76 70 35]\n",
      "\n",
      " Sorted List:\n",
      "[10 17 35 37 55 70 76 77 85 98]\n"
     ]
    }
   ],
   "source": [
    "nums = get_rand_ints(10)\n",
    "quick_sort(nums, 0, 9)\n",
    "print(f\"\\n Sorted List:\\n{np.array(nums)}\")"
   ]
  },
  {
   "cell_type": "markdown",
   "id": "c9bd7493-a349-453e-bc14-34bdfe616cef",
   "metadata": {},
   "source": [
    "## Counting Sort\n",
    "\n",
    "Can be used only for integer values. Creates count array that is of sufficient size where the values of the original array are indices into the count array and keep a total of the number of their occurrences in the original array. The count array is converted to a cumulative sum. For each value in the original array, perform a look up in the count array, and that value minus 1 is the correct position of that value in a new output array. Count array values should be decremented after insertion. \n",
    "\n",
    "Time: $O(n+k)$ where $k$ is the range of the input   \n",
    "Space: $O(n+k)$"
   ]
  },
  {
   "cell_type": "code",
   "execution_count": 91,
   "id": "07b7c9f0-bf8d-4438-8bba-b1a2fd9e3e52",
   "metadata": {},
   "outputs": [],
   "source": [
    "def count_sort(arr):\n",
    "    max_arg = max(arr)\n",
    "    min_arg = min(arr)\n",
    "    # To account for negative numbers, shift to the right by min value and plus 1 since max value must be an index\n",
    "    arg_range = max_arg - min_arg + 1\n",
    "    num_els = len(arr)\n",
    "\n",
    "    # Initialize counts array to be 0s of size rull range of values    \n",
    "    counts = [0]*arg_range\n",
    "    output = [0]*num_els\n",
    "\n",
    "    for arg in arr:\n",
    "        # Use value in original array as index in count array and increment \n",
    "        counts[arg-min_arg] += 1\n",
    "\n",
    "    for i in range(1, arg_range):\n",
    "        # Convert into a cumulative sum\n",
    "        counts[i] += counts[i-1]\n",
    "\n",
    "    # For each value in array, look up count value, using minimum shift to the right \n",
    "    #  Going in reverse to preserve order of equal valued elements\n",
    "    for i in range(num_els-1, -1, -1):\n",
    "        val = counts[arr[i] - min_arg]\n",
    "        # count val minus 1 is correct index of array value\n",
    "        output[val-1] = arr[i]\n",
    "        # decrement count value\n",
    "        counts[arr[i] - min_arg] -=1\n",
    "\n",
    "    for i in range(num_els):\n",
    "        arr[i] = output[i]\n"
   ]
  },
  {
   "cell_type": "code",
   "execution_count": 96,
   "id": "99e76db0-bfba-4a22-aab2-f799cb5b24bb",
   "metadata": {},
   "outputs": [
    {
     "name": "stdout",
     "output_type": "stream",
     "text": [
      "Unsorted List:\n",
      "[54 27 29 35 68 33  9 67 -3 41]\n",
      "\n",
      " Sorted List:\n",
      "[-3  9 27 29 33 35 41 54 67 68]\n"
     ]
    }
   ],
   "source": [
    "arr = get_rand_ints(10)\n",
    "count_sort(arr)\n",
    "print(f\"\\n Sorted List:\\n{np.array(arr)}\")"
   ]
  },
  {
   "cell_type": "markdown",
   "id": "ea50bff0-4afb-4773-8a21-fad901c211cc",
   "metadata": {},
   "source": [
    "## Radix Sort\n",
    "\n",
    "Counting sort is good for when values are in the range of $[-k, k]$ but not for the range of $[1, n^2]$ or greater. Radix sort can be used to augment Counting Sort. Sort values in array by their significant using counting sort. Sort first by the ones place, tens place, etc.\n",
    "\n",
    "Time: $O(nk)$   \n",
    "Space: $O(max(array))$"
   ]
  },
  {
   "cell_type": "code",
   "execution_count": 116,
   "id": "1c11e51e-26c0-4f85-8343-172065187bfe",
   "metadata": {},
   "outputs": [],
   "source": [
    "def count_sort(arr, pwr=1):\n",
    "    # Convert array to array filled digit of interest\n",
    "    proc_arr = []\n",
    "    for v in arr:\n",
    "        v = v // pwr\n",
    "        if v >= 0:\n",
    "            proc_arr.append(v % 10)\n",
    "        else:\n",
    "            v = abs(v) % 10\n",
    "            proc_arr.append(-1*v)\n",
    "    \n",
    "    max_arg = max(proc_arr)\n",
    "    min_arg = min(proc_arr)\n",
    "    # To account for negative numbers, shift to the right by min value and plus 1 since max value must be an index\n",
    "    arg_range = max_arg - min_arg + 1\n",
    "    num_els = len(proc_arr)\n",
    "\n",
    "    # Initialize counts array to be 0s of size rull range of values    \n",
    "    counts = [0]*arg_range\n",
    "    output = [0]*num_els\n",
    "\n",
    "    for arg in proc_arr:\n",
    "        # Use value in original array as index in count array and increment \n",
    "        counts[arg-min_arg] += 1\n",
    "\n",
    "    for i in range(1, arg_range):\n",
    "        # Convert into a cumulative sum\n",
    "        counts[i] += counts[i-1]\n",
    "\n",
    "    # For each value in array, look up count value, using minimum shift to the right \n",
    "    #  Going in reverse to preserve order of equal valued elements\n",
    "    for i in range(num_els-1, -1, -1):\n",
    "        val = counts[proc_arr[i] - min_arg]\n",
    "        # count val minus 1 is correct index of original array value\n",
    "        output[val-1] = arr[i]\n",
    "        # decrement count value of processed array\n",
    "        counts[proc_arr[i] - min_arg] -=1\n",
    "\n",
    "    for i in range(num_els):\n",
    "        arr[i] = output[i]\n",
    "    \n",
    "    \n",
    "def radix_sort(arr):\n",
    "    pwr = 1\n",
    "    max_val_length = len(str(max(arr)))\n",
    "    \n",
    "    for i in range(max_val_length):\n",
    "        count_sort(arr, pwr)\n",
    "        pwr*=10\n"
   ]
  },
  {
   "cell_type": "code",
   "execution_count": 134,
   "id": "646a9eb0-c462-4e6a-a686-4678ba107c97",
   "metadata": {
    "tags": []
   },
   "outputs": [
    {
     "name": "stdout",
     "output_type": "stream",
     "text": [
      "Unsorted List:\n",
      "[ 43  47   7  58   3   0  62  -4 -10  57]\n",
      "\n",
      " Sorted List:\n",
      "[ -4 -10   0   3   7  43  47  57  58  62]\n"
     ]
    }
   ],
   "source": [
    "arr = get_rand_ints(10)\n",
    "radix_sort(arr)\n",
    "print(f\"\\n Sorted List:\\n{np.array(arr)}\")"
   ]
  },
  {
   "cell_type": "markdown",
   "id": "2d2cf162-dc54-433a-8851-9b1ede829f6d",
   "metadata": {},
   "source": [
    "## Binary Search Insert\n",
    "Given a sorted list, performs a recursive binary search to find the index to insert a new value and still maintain the ordering"
   ]
  },
  {
   "cell_type": "code",
   "execution_count": 2,
   "id": "49dde1ef-d6a5-47cb-8c04-8327e6648c6c",
   "metadata": {},
   "outputs": [],
   "source": [
    "def get_ordered_place(ordered_values, val, left, right) -> int:\n",
    "    '''Returns index where new val should be inserted in ordered_values to maintain order'''\n",
    "    # if left crosses right, return valid insert position\n",
    "    if left > right:\n",
    "        return left\n",
    "\n",
    "    mid_pt = (left+right) // 2\n",
    "    # if midpoint equals value to be inserted midpoint\n",
    "    if ordered_values[mid_pt] == val:\n",
    "        return mid_pt\n",
    "\n",
    "    # value should be inserted in upper half\n",
    "    if ordered_values[mid_pt] < val:\n",
    "        return get_ordered_place(ordered_values, val, mid_pt+1, right)\n",
    "    else:\n",
    "        # value should be inserted in lower half\n",
    "        return get_ordered_place(ordered_values, val, left, mid_pt-1)"
   ]
  },
  {
   "cell_type": "code",
   "execution_count": 14,
   "id": "fac010fb-4eef-4e71-8fcc-940b7587b401",
   "metadata": {},
   "outputs": [
    {
     "name": "stdout",
     "output_type": "stream",
     "text": [
      "Unsorted List:\n",
      "[ 1  4 19 27 33 37 41 47 65 85]\n",
      "\n",
      " Sorted List With New Value 13:\n",
      "[ 1  4 13 19 27 33 37 41 47 65 85]\n"
     ]
    }
   ],
   "source": [
    "ordered = get_rand_ints(10, sort=True)\n",
    "val = 13\n",
    "ind = get_ordered_place(ordered, val, 0, len(ordered)-1)\n",
    "ordered.insert(ind, val)\n",
    "print(f\"\\n Sorted List With New Value {val}:\\n{np.array(ordered)}\")"
   ]
  },
  {
   "cell_type": "code",
   "execution_count": null,
   "id": "c2f7cf76-4b29-4ff5-a55e-af912bafe525",
   "metadata": {},
   "outputs": [],
   "source": []
  }
 ],
 "metadata": {
  "kernelspec": {
   "display_name": "Python 3 (ipykernel)",
   "language": "python",
   "name": "python3"
  },
  "language_info": {
   "codemirror_mode": {
    "name": "ipython",
    "version": 3
   },
   "file_extension": ".py",
   "mimetype": "text/x-python",
   "name": "python",
   "nbconvert_exporter": "python",
   "pygments_lexer": "ipython3",
   "version": "3.7.12"
  }
 },
 "nbformat": 4,
 "nbformat_minor": 5
}
