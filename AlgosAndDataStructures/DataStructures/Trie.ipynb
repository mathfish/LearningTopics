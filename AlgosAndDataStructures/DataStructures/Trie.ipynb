{
 "cells": [
  {
   "cell_type": "code",
   "execution_count": 1,
   "id": "2d322d44-c06f-410d-bb73-1a60f6792b34",
   "metadata": {},
   "outputs": [],
   "source": [
    "import numpy as np"
   ]
  },
  {
   "cell_type": "code",
   "execution_count": 23,
   "id": "cc18c47d-67b7-41c3-8fc4-d8326aaa6c35",
   "metadata": {},
   "outputs": [],
   "source": [
    "class TrieNode():\n",
    "    lib_size = 26\n",
    "    \n",
    "    def __init__(self):\n",
    "        self.is_word = False\n",
    "        self.children = [None]*TrieNode.lib_size"
   ]
  },
  {
   "cell_type": "code",
   "execution_count": 27,
   "id": "e649a2e7-4c5c-4b43-a375-d366d63df5c7",
   "metadata": {},
   "outputs": [],
   "source": [
    "class Trie():\n",
    "    \n",
    "    def __init__(self):\n",
    "        self.root = TrieNode()\n",
    "    \n",
    "    '''Insert word into trie that is all lower case'''\n",
    "    def insert(self, word: str):\n",
    "        word = word.lower()\n",
    "        node = self.root\n",
    "        for ltr in word:\n",
    "            if node.children[ord(ltr) - ord(\"a\")] is None:\n",
    "                node.children[ord(ltr) - ord(\"a\")] = TrieNode()\n",
    "            \n",
    "            node = node.children[ord(ltr) - ord(\"a\")]\n",
    "        \n",
    "        # Full word is inserted\n",
    "        node.is_word = True\n",
    "    \n",
    "    '''Returns true if word in trie'''\n",
    "    def search(self, word: str) -> bool:\n",
    "        node = self.root\n",
    "        for ltr in word:\n",
    "            if node.children[ord(ltr) - ord(\"a\")] is None:\n",
    "                return False\n",
    "            node = node.children[ord(ltr) - ord(\"a\")]\n",
    "        \n",
    "        return node.is_word\n",
    "    \n",
    "    '''Returns true if any word in the trie that starts with the prefix'''\n",
    "    def startsWith(self, prefix: str) -> bool:\n",
    "        node = self.root\n",
    "        for ltr in prefix:\n",
    "            if node.children[ord(ltr) - ord(\"a\")] is None:\n",
    "                return False\n",
    "            node = node.children[ord(ltr) - ord(\"a\")]\n",
    "        \n",
    "        return True\n",
    "    "
   ]
  },
  {
   "cell_type": "code",
   "execution_count": 32,
   "id": "b9ca43f4-c124-4286-8961-6b4f81d00f8a",
   "metadata": {},
   "outputs": [],
   "source": [
    "trie = Trie()\n",
    "trie.insert(\"apple\")\n",
    "trie.insert(\"wording\")\n",
    "assert trie.search(\"apple\") == True \n",
    "assert trie.startsWith(\"word\") == True\n",
    "assert trie.startsWith(\"wrd\") == False\n",
    "assert trie.search(\"word\") == False\n",
    "trie.insert(\"word\")\n",
    "assert trie.search(\"word\") == True"
   ]
  },
  {
   "cell_type": "code",
   "execution_count": null,
   "id": "2c562975-e6f1-45ea-9bc2-0faf50a9d2a1",
   "metadata": {},
   "outputs": [],
   "source": []
  }
 ],
 "metadata": {
  "kernelspec": {
   "display_name": "Python 3 (ipykernel)",
   "language": "python",
   "name": "python3"
  },
  "language_info": {
   "codemirror_mode": {
    "name": "ipython",
    "version": 3
   },
   "file_extension": ".py",
   "mimetype": "text/x-python",
   "name": "python",
   "nbconvert_exporter": "python",
   "pygments_lexer": "ipython3",
   "version": "3.7.12"
  }
 },
 "nbformat": 4,
 "nbformat_minor": 5
}
