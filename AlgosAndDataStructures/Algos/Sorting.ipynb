{
 "cells": [
  {
   "cell_type": "code",
   "execution_count": 5,
   "id": "7023ee56-9699-4b3a-9cdd-2b81d2c74b9e",
   "metadata": {},
   "outputs": [],
   "source": [
    "import numpy as np"
   ]
  },
  {
   "cell_type": "markdown",
   "id": "21147982-f9d2-451d-bc27-37f72cb70ff2",
   "metadata": {},
   "source": [
    "# Sorting Algorithms\n",
    "Notes and Implementations"
   ]
  },
  {
   "cell_type": "code",
   "execution_count": 7,
   "id": "438bc048-f950-4c9c-9e21-bd718a967b01",
   "metadata": {},
   "outputs": [],
   "source": [
    "def get_rand_ints(num=50, sort=False):\n",
    "    int_list = np.random.randint(low=-10, high=100, size=num)\n",
    "    if sort:\n",
    "        int_list = np.sort(int_list)\n",
    "    print(f\"Unsorted List:\\n{int_list}\")\n",
    "    return int_list.tolist()\n"
   ]
  },
  {
   "cell_type": "markdown",
   "id": "07d80869-cbd6-4f83-8315-6908bb0caf85",
   "metadata": {},
   "source": [
    "## Insertion Sort\n",
    "Walks array, separating the array into 2 parts: sorted and unsorted. Takes elements from the unsorted portion of the array and moves them to the correct sequential order in the sorted portion of the array. Stops when the unsorted portion is empty. Sorts elements in-place.   \n",
    "\n",
    "Time: $O(n^2)$"
   ]
  },
  {
   "cell_type": "code",
   "execution_count": 33,
   "id": "f82d4b4b-f7a5-4acc-9f2d-44a9bdf0e56a",
   "metadata": {},
   "outputs": [
    {
     "name": "stdout",
     "output_type": "stream",
     "text": [
      "Unsorted List:\n",
      "[ 99  19  81  86  -4  85  91 -10  42  99  -9  40   6  15  97  11  79  97\n",
      "  42  16  95  82  55  75   7  91  89  92   8  49  53  42  71  -8  99  43\n",
      "  -2  30  73  66  81  17  25  70  64  71  73  34 -10   6]\n"
     ]
    }
   ],
   "source": [
    "int_list = get_rand_ints()"
   ]
  },
  {
   "cell_type": "code",
   "execution_count": 34,
   "id": "8d735fc5-520b-4370-8962-4c834a33566d",
   "metadata": {},
   "outputs": [
    {
     "name": "stdout",
     "output_type": "stream",
     "text": [
      "Sorted List:\n",
      "[-10 -10  -9  -8  -4  -2   6   6   7   8  11  15  16  17  19  25  30  34\n",
      "  40  42  42  42  43  49  53  55  64  66  70  71  71  73  73  75  79  81\n",
      "  81  82  85  86  89  91  91  92  95  97  97  99  99  99]\n"
     ]
    }
   ],
   "source": [
    "for i in range(1,len(int_list)):\n",
    "    val = int_list[i]\n",
    "    ptr = i-1\n",
    "    while ptr >= 0 and int_list[ptr] > val:\n",
    "        #need to move value at ptr up to make room for val. Will have value duplicated at ptr and ptr+1 until next iteration\n",
    "        int_list[ptr+1] = int_list[ptr]\n",
    "        ptr-=1\n",
    "    \n",
    "    #insert val into correct place\n",
    "    int_list[ptr+1] = val\n",
    "    \n",
    "print(f\"Sorted List:\\n{int_list}\")"
   ]
  },
  {
   "cell_type": "markdown",
   "id": "afb8e34f-1d91-4840-b7f5-bba9730b1c93",
   "metadata": {},
   "source": [
    "## Merge Sort\n",
    "A sorting method that recursively splits the list in-half until lists of size 1 are produced. Then a merge method is called to combine two sorted lists, initially consisting of two single element lists. Sorts elements in-place.  \n",
    "\n",
    "Time: $O(nlog(n))$"
   ]
  },
  {
   "cell_type": "code",
   "execution_count": 130,
   "id": "e8c83e7f-ee5e-4102-9ce2-024b90b34c17",
   "metadata": {},
   "outputs": [],
   "source": [
    "def merge(l, a, b, c):\n",
    "    '''Combines sorted sub-arrays l[a:b+1] and l[b+1:c+1] into sorted sub-array l[a:c+1]'''\n",
    "    #create two lists left, right\n",
    "    left = l[a:b+1]\n",
    "    right = l[b+1:c+1]\n",
    "    n_left = b-a+1\n",
    "    n_right = c-b\n",
    "    \n",
    "    ileft = 0\n",
    "    iright = 0\n",
    "    # loop for full range of elements\n",
    "    for i in range(a, c+1):\n",
    "        if left[ileft] <= right[iright]:\n",
    "            l[i] = left[ileft]\n",
    "            ileft+=1\n",
    "        else:\n",
    "            l[i] = right[iright]\n",
    "            iright+=1\n",
    "        \n",
    "        if ileft >= n_left and iright < n_right:\n",
    "            l[i+1:c+1] = right[iright:]\n",
    "            break\n",
    "        elif iright >= n_right and ileft < n_left:\n",
    "            l[i+1:c+1] = left[ileft:]\n",
    "            break\n",
    "    return l\n",
    "\n",
    "def merge_sort(l, a, c):\n",
    "    # do nothing when single element list, i.e. a=c\n",
    "    if a < c:\n",
    "        mid_pt = (a + c) // 2\n",
    "        merge_sort(l, a, mid_pt)\n",
    "        merge_sort(l, mid_pt+1, c)\n",
    "        merge(l, a, mid_pt, c)\n",
    "        "
   ]
  },
  {
   "cell_type": "code",
   "execution_count": 136,
   "id": "0c2da6a4-cd7c-426a-a157-def8e754190f",
   "metadata": {},
   "outputs": [
    {
     "name": "stdout",
     "output_type": "stream",
     "text": [
      "Unsorted List:\n",
      "[47 43 26 50 62 82 63 53 51 22 54 26 68 51 29 57 37 82 94 14 58 10 71 30\n",
      " 93 -5 53 -5 49 55  7 85  2 95 69 -6 32  5 54 21 54 -6 -3 -9 49  5 94 24\n",
      " 40 37]\n",
      "\n",
      " Sorted List:\n",
      "[-9 -6 -6 -5 -5 -3  2  5  5  7 10 14 21 22 24 26 26 29 30 32 37 37 40 43\n",
      " 47 49 49 50 51 51 53 53 54 54 54 55 57 58 62 63 68 69 71 82 82 85 93 94\n",
      " 94 95]\n"
     ]
    }
   ],
   "source": [
    "int_list = get_rand_ints()\n",
    "merge_sort(int_list, 0, len(int_list)-1)\n",
    "\n",
    "print(f\"\\n Sorted List:\\n{np.array(int_list)}\")"
   ]
  },
  {
   "cell_type": "markdown",
   "id": "22358431-cc12-4360-85d6-d2b81c063349",
   "metadata": {},
   "source": [
    "## QuickSort \n"
   ]
  },
  {
   "cell_type": "code",
   "execution_count": null,
   "id": "6854e3d6-a6b3-489b-9925-3cc151ef3a47",
   "metadata": {},
   "outputs": [],
   "source": []
  },
  {
   "cell_type": "markdown",
   "id": "2d2cf162-dc54-433a-8851-9b1ede829f6d",
   "metadata": {},
   "source": [
    "## Binary Search Insert\n",
    "Given a sorted list, performs a recursive binary search to find the index to insert a new value and still maintain the ordering"
   ]
  },
  {
   "cell_type": "code",
   "execution_count": 2,
   "id": "49dde1ef-d6a5-47cb-8c04-8327e6648c6c",
   "metadata": {},
   "outputs": [],
   "source": [
    "def get_ordered_place(ordered_values, val, left, right) -> int:\n",
    "    '''Returns index where new val should be inserted in ordered_values to maintain order'''\n",
    "    # if left crosses right, return valid insert position\n",
    "    if left > right:\n",
    "        return left\n",
    "\n",
    "    mid_pt = (left+right) // 2\n",
    "    # if midpoint equals value to be inserted midpoint\n",
    "    if ordered_values[mid_pt] == val:\n",
    "        return mid_pt\n",
    "\n",
    "    # value should be inserted in upper half\n",
    "    if ordered_values[mid_pt] < val:\n",
    "        return get_ordered_place(ordered_values, val, mid_pt+1, right)\n",
    "    else:\n",
    "        # value should be inserted in lower half\n",
    "        return get_ordered_place(ordered_values, val, left, mid_pt-1)"
   ]
  },
  {
   "cell_type": "code",
   "execution_count": 14,
   "id": "fac010fb-4eef-4e71-8fcc-940b7587b401",
   "metadata": {},
   "outputs": [
    {
     "name": "stdout",
     "output_type": "stream",
     "text": [
      "Unsorted List:\n",
      "[ 1  4 19 27 33 37 41 47 65 85]\n",
      "\n",
      " Sorted List With New Value 13:\n",
      "[ 1  4 13 19 27 33 37 41 47 65 85]\n"
     ]
    }
   ],
   "source": [
    "ordered = get_rand_ints(10, sort=True)\n",
    "val = 13\n",
    "ind = get_ordered_place(ordered, val, 0, len(ordered)-1)\n",
    "ordered.insert(ind, val)\n",
    "print(f\"\\n Sorted List With New Value {val}:\\n{np.array(ordered)}\")"
   ]
  },
  {
   "cell_type": "code",
   "execution_count": null,
   "id": "c2f7cf76-4b29-4ff5-a55e-af912bafe525",
   "metadata": {},
   "outputs": [],
   "source": []
  }
 ],
 "metadata": {
  "kernelspec": {
   "display_name": "Python 3 (ipykernel)",
   "language": "python",
   "name": "python3"
  },
  "language_info": {
   "codemirror_mode": {
    "name": "ipython",
    "version": 3
   },
   "file_extension": ".py",
   "mimetype": "text/x-python",
   "name": "python",
   "nbconvert_exporter": "python",
   "pygments_lexer": "ipython3",
   "version": "3.9.7"
  }
 },
 "nbformat": 4,
 "nbformat_minor": 5
}
