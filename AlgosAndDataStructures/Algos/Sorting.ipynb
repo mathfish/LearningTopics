{
 "cells": [
  {
   "cell_type": "code",
   "execution_count": 1,
   "id": "7023ee56-9699-4b3a-9cdd-2b81d2c74b9e",
   "metadata": {},
   "outputs": [],
   "source": [
    "import numpy as np"
   ]
  },
  {
   "cell_type": "markdown",
   "id": "21147982-f9d2-451d-bc27-37f72cb70ff2",
   "metadata": {},
   "source": [
    "# Sorting Algorithms\n",
    "Notes and Implementations"
   ]
  },
  {
   "cell_type": "code",
   "execution_count": 2,
   "id": "438bc048-f950-4c9c-9e21-bd718a967b01",
   "metadata": {},
   "outputs": [],
   "source": [
    "def get_rand_ints(num=50, sort=False):\n",
    "    int_list = np.random.randint(low=-10, high=100, size=num)\n",
    "    if sort:\n",
    "        int_list = np.sort(int_list)\n",
    "    print(f\"Unsorted List:\\n{int_list}\")\n",
    "    return int_list.tolist()\n"
   ]
  },
  {
   "cell_type": "markdown",
   "id": "436e82a8-6ef4-4bb6-a8ac-3fa5da38c29f",
   "metadata": {},
   "source": [
    "## Selection Sort\n",
    "Walk array and for each place $i$ in the array of size $n$, find the smallest value amongst the other $n-1$ values. If that value is smaller than the $i$, swap. Continue until array is walked. Will sort in place.\n",
    "\n",
    "Time: $O(n^2)$\n"
   ]
  },
  {
   "cell_type": "code",
   "execution_count": 11,
   "id": "9521d9e8-fa4d-40a6-ae6e-5a104dc9b67c",
   "metadata": {},
   "outputs": [
    {
     "name": "stdout",
     "output_type": "stream",
     "text": [
      "Unsorted List:\n",
      "[49 53 33 45 49 -6 -7 -6 65 49 18 75 66 29 98]\n",
      "Sorted list:\n",
      "[-7 -6 -6 18 29 33 45 49 49 49 53 65 66 75 98]\n"
     ]
    }
   ],
   "source": [
    "num_list = get_rand_ints(15)\n",
    "\n",
    "for i in range(len(num_list)):\n",
    "    for j in range(i+1, len(num_list)):\n",
    "        if num_list[j] < num_list[i]:\n",
    "            i_val = num_list[i]\n",
    "            num_list[i] = num_list[j]\n",
    "            num_list[j] = i_val\n",
    "            \n",
    "print(f\"Sorted list:\\n{np.array(num_list)}\")"
   ]
  },
  {
   "cell_type": "markdown",
   "id": "07d80869-cbd6-4f83-8315-6908bb0caf85",
   "metadata": {},
   "source": [
    "## Insertion Sort\n",
    "Walks array, separating the array into 2 parts: sorted and unsorted. Takes elements from the unsorted portion of the array and moves them to the correct sequential order in the sorted portion of the array. Stops when the unsorted portion is empty. Sorts elements in-place.   \n",
    "\n",
    "Time: $O(n^2)$"
   ]
  },
  {
   "cell_type": "code",
   "execution_count": 10,
   "id": "8d735fc5-520b-4370-8962-4c834a33566d",
   "metadata": {},
   "outputs": [
    {
     "name": "stdout",
     "output_type": "stream",
     "text": [
      "Unsorted List:\n",
      "[25  4 11 11 88 26 56 75 70 47 93 58 41 27 89]\n",
      "Sorted List:\n",
      "[ 4 11 11 25 26 27 41 47 56 58 70 75 88 89 93]\n"
     ]
    }
   ],
   "source": [
    "int_list = get_rand_ints(15)\n",
    "\n",
    "for i in range(1,len(int_list)):\n",
    "    val = int_list[i]\n",
    "    ptr = i-1\n",
    "    while ptr >= 0 and int_list[ptr] > val:\n",
    "        #need to move value at ptr up to make room for val. Will have value duplicated at ptr and ptr+1 until next iteration\n",
    "        int_list[ptr+1] = int_list[ptr]\n",
    "        ptr-=1\n",
    "    \n",
    "    #insert val into correct place\n",
    "    int_list[ptr+1] = val\n",
    "    \n",
    "print(f\"Sorted List:\\n{np.array(int_list)}\")"
   ]
  },
  {
   "cell_type": "markdown",
   "id": "7e31a0d9-d6b6-459c-9146-03f457dce062",
   "metadata": {},
   "source": [
    "## Bubble Sort\n",
    "Sweep through array starting at the beginning of the array and swap elements if $n_1 > n_0$. Will need to do $n \\times n-1$ passes \n",
    "\n",
    "Time: $O(n^2)$"
   ]
  },
  {
   "cell_type": "code",
   "execution_count": 14,
   "id": "505a719c-b1a8-4f24-824d-b54eb64dad45",
   "metadata": {},
   "outputs": [
    {
     "name": "stdout",
     "output_type": "stream",
     "text": [
      "Unsorted List:\n",
      "[ 65  30  82   4  44  18   8  57  44  86  59 -10  22  41   9]\n",
      "Sorted List:\n",
      "[-10   4   8   9  18  22  30  41  44  44  57  59  65  82  86]\n"
     ]
    }
   ],
   "source": [
    "num_list = get_rand_ints(15)\n",
    "\n",
    "for i in range(len(num_list)):\n",
    "    for j in range(i+1, len(num_list)):\n",
    "        if num_list[j] < num_list[i]:\n",
    "            i_val = num_list[i]\n",
    "            num_list[i] = num_list[j]\n",
    "            num_list[j] = i_val\n",
    "            \n",
    "print(f\"Sorted List:\\n{np.array(num_list)}\")"
   ]
  },
  {
   "cell_type": "markdown",
   "id": "afb8e34f-1d91-4840-b7f5-bba9730b1c93",
   "metadata": {},
   "source": [
    "## Merge Sort\n",
    "A sorting method that recursively splits the list in-half until lists of size 1 are produced. Then a merge method is called to combine two sorted lists, initially consisting of two single element lists, by looping over the two sublists and inserting into the main list the correct value by order. Sorts elements in-place.  \n",
    "\n",
    "Time: $O(nlog(n))$"
   ]
  },
  {
   "cell_type": "code",
   "execution_count": 15,
   "id": "e8c83e7f-ee5e-4102-9ce2-024b90b34c17",
   "metadata": {},
   "outputs": [
    {
     "name": "stdout",
     "output_type": "stream",
     "text": [
      "Unsorted List:\n",
      "[82 -3 58 -7 75 65 51 24  4 28 63 28 85 19 56 -4 60 49 99 15  0 86 78 19\n",
      "  4 27 37 86 56 32  7 96 33 19 44  3 59 25 79 30 60 52 81 18 72 22 78 14\n",
      " -8  2]\n",
      "\n",
      " Sorted List:\n",
      "[-8 -7 -4 -3  0  2  3  4  4  7 14 15 18 19 19 19 22 24 25 27 28 28 30 32\n",
      " 33 37 44 49 51 52 56 56 58 59 60 60 63 65 72 75 78 78 79 81 82 85 86 86\n",
      " 96 99]\n"
     ]
    }
   ],
   "source": [
    "def merge(l, a, b, c):\n",
    "    '''Combines sorted sub-arrays l[a:b+1] (endpoint exclusive) and l[b+1:c+1] into sorted sub-array l[a:c+1]'''\n",
    "    #create two lists left, right from main list\n",
    "    left = l[a:b+1]\n",
    "    right = l[b+1:c+1]\n",
    "    n_left = b-a+1\n",
    "    n_right = c-b\n",
    "    \n",
    "    ileft = 0\n",
    "    iright = 0\n",
    "    # loop for full range of elements and insert correct value from sublists into main lists in ascending order\n",
    "    for i in range(a, c+1):\n",
    "        if left[ileft] <= right[iright]:\n",
    "            l[i] = left[ileft]\n",
    "            ileft+=1\n",
    "        else:\n",
    "            l[i] = right[iright]\n",
    "            iright+=1\n",
    "        \n",
    "        # if either left or right index is greater than respective list length, \n",
    "        #  append remaining values in the other list to main list\n",
    "        if ileft >= n_left and iright < n_right:\n",
    "            l[i+1:c+1] = right[iright:]\n",
    "            break\n",
    "        elif iright >= n_right and ileft < n_left:\n",
    "            l[i+1:c+1] = left[ileft:]\n",
    "            break\n",
    "    return l\n",
    "\n",
    "def merge_sort(l, a, c):\n",
    "    # do nothing when single element list, i.e. a=c\n",
    "    if a < c:\n",
    "        mid_pt = (a + c) // 2\n",
    "        merge_sort(l, a, mid_pt)\n",
    "        merge_sort(l, mid_pt+1, c)\n",
    "        merge(l, a, mid_pt, c)\n",
    "        \n",
    "int_list = get_rand_ints()\n",
    "merge_sort(int_list, 0, len(int_list)-1)\n",
    "\n",
    "print(f\"\\n Sorted List:\\n{np.array(int_list)}\")"
   ]
  },
  {
   "cell_type": "markdown",
   "id": "22358431-cc12-4360-85d6-d2b81c063349",
   "metadata": {},
   "source": [
    "## QuickSort \n"
   ]
  },
  {
   "cell_type": "code",
   "execution_count": null,
   "id": "6854e3d6-a6b3-489b-9925-3cc151ef3a47",
   "metadata": {},
   "outputs": [],
   "source": []
  },
  {
   "cell_type": "markdown",
   "id": "2d2cf162-dc54-433a-8851-9b1ede829f6d",
   "metadata": {},
   "source": [
    "## Binary Search Insert\n",
    "Given a sorted list, performs a recursive binary search to find the index to insert a new value and still maintain the ordering"
   ]
  },
  {
   "cell_type": "code",
   "execution_count": 2,
   "id": "49dde1ef-d6a5-47cb-8c04-8327e6648c6c",
   "metadata": {},
   "outputs": [],
   "source": [
    "def get_ordered_place(ordered_values, val, left, right) -> int:\n",
    "    '''Returns index where new val should be inserted in ordered_values to maintain order'''\n",
    "    # if left crosses right, return valid insert position\n",
    "    if left > right:\n",
    "        return left\n",
    "\n",
    "    mid_pt = (left+right) // 2\n",
    "    # if midpoint equals value to be inserted midpoint\n",
    "    if ordered_values[mid_pt] == val:\n",
    "        return mid_pt\n",
    "\n",
    "    # value should be inserted in upper half\n",
    "    if ordered_values[mid_pt] < val:\n",
    "        return get_ordered_place(ordered_values, val, mid_pt+1, right)\n",
    "    else:\n",
    "        # value should be inserted in lower half\n",
    "        return get_ordered_place(ordered_values, val, left, mid_pt-1)"
   ]
  },
  {
   "cell_type": "code",
   "execution_count": 14,
   "id": "fac010fb-4eef-4e71-8fcc-940b7587b401",
   "metadata": {},
   "outputs": [
    {
     "name": "stdout",
     "output_type": "stream",
     "text": [
      "Unsorted List:\n",
      "[ 1  4 19 27 33 37 41 47 65 85]\n",
      "\n",
      " Sorted List With New Value 13:\n",
      "[ 1  4 13 19 27 33 37 41 47 65 85]\n"
     ]
    }
   ],
   "source": [
    "ordered = get_rand_ints(10, sort=True)\n",
    "val = 13\n",
    "ind = get_ordered_place(ordered, val, 0, len(ordered)-1)\n",
    "ordered.insert(ind, val)\n",
    "print(f\"\\n Sorted List With New Value {val}:\\n{np.array(ordered)}\")"
   ]
  },
  {
   "cell_type": "code",
   "execution_count": null,
   "id": "c2f7cf76-4b29-4ff5-a55e-af912bafe525",
   "metadata": {},
   "outputs": [],
   "source": []
  }
 ],
 "metadata": {
  "kernelspec": {
   "display_name": "Python 3 (ipykernel)",
   "language": "python",
   "name": "python3"
  },
  "language_info": {
   "codemirror_mode": {
    "name": "ipython",
    "version": 3
   },
   "file_extension": ".py",
   "mimetype": "text/x-python",
   "name": "python",
   "nbconvert_exporter": "python",
   "pygments_lexer": "ipython3",
   "version": "3.8.10"
  }
 },
 "nbformat": 4,
 "nbformat_minor": 5
}
