{
 "cells": [
  {
   "cell_type": "markdown",
   "id": "625690f8-313b-4be8-82de-bc62a097a43a",
   "metadata": {},
   "source": [
    "# Maximum SubArray \n",
    "Find a non-empty, contiguous subarray of A whose values have the largest sum. In this problem, the array usually contains negative numbers. If not, then the maximum subarray would simply be the whole array.         \n",
    "\n",
    "For array $A[low,high]$ and midpoint $mid$, a contigous subarray $A[i,j]$ exists $\\ni$:\n",
    "1. it exists entirely in $A[low, mid]$, $low \\leq i \\leq j \\leq mid$\n",
    "2. it exists entirely in $A[mid, high]$, $mid \\leq i \\leq j \\leq high$\n",
    "3. it crosses $mid$, $low \\leq i \\leq mid < j \\leq high$   \n",
    "\n",
    "We can use recursion to find the max possible subarrays from scenarios 1 and 2. "
   ]
  },
  {
   "cell_type": "code",
   "execution_count": null,
   "id": "738070b9-c06a-4f03-bdc4-dd9afa347379",
   "metadata": {},
   "outputs": [],
   "source": []
  }
 ],
 "metadata": {
  "kernelspec": {
   "display_name": "Python 3 (ipykernel)",
   "language": "python",
   "name": "python3"
  },
  "language_info": {
   "codemirror_mode": {
    "name": "ipython",
    "version": 3
   },
   "file_extension": ".py",
   "mimetype": "text/x-python",
   "name": "python",
   "nbconvert_exporter": "python",
   "pygments_lexer": "ipython3",
   "version": "3.9.7"
  }
 },
 "nbformat": 4,
 "nbformat_minor": 5
}
