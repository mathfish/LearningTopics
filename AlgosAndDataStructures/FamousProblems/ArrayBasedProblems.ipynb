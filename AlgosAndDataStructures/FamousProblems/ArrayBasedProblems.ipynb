{
 "cells": [
  {
   "cell_type": "code",
   "execution_count": 2,
   "id": "1fadac9c-cb13-4477-8def-bac5fe9ff7f2",
   "metadata": {},
   "outputs": [],
   "source": [
    "import numpy as np"
   ]
  },
  {
   "cell_type": "markdown",
   "id": "625690f8-313b-4be8-82de-bc62a097a43a",
   "metadata": {},
   "source": [
    "## Maximum SubArray \n",
    "Find a non-empty, contiguous subarray of A whose values have the largest sum. In this problem, the array usually contains negative numbers. If not, then the maximum subarray would simply be the whole array.         \n",
    "\n",
    "  \n",
    "\n"
   ]
  },
  {
   "cell_type": "markdown",
   "id": "04df73d6-51ee-4a4a-b1e2-f741ef13f32f",
   "metadata": {},
   "source": [
    "### Brute Force It\n",
    "Cost $O(n^2)$"
   ]
  },
  {
   "cell_type": "code",
   "execution_count": 23,
   "id": "f4cca561-3fc0-4b53-aa37-3d635f056bd8",
   "metadata": {},
   "outputs": [],
   "source": [
    "Arr = [-2, 1, -3, 4, -1, 2, 1, -5, 4]\n",
    "\n",
    "def get_a_hammer(A):# Get A Hammer\n",
    "    #left_ind, right_ind, sum\n",
    "    max_sum = [0, 0, 0]\n",
    "    len_arr = len(A)\n",
    "    for i in range(len_arr):\n",
    "        tmp_sum = 0\n",
    "        for j in range(i, len_arr):\n",
    "            tmp_sum += A[j]\n",
    "            if tmp_sum > max_sum[2]:\n",
    "                max_sum = [i, j, tmp_sum]\n",
    "    \n",
    "    return max_sum"
   ]
  },
  {
   "cell_type": "code",
   "execution_count": 22,
   "id": "1555cc63-8f77-4e22-8d79-908ea5b5f790",
   "metadata": {},
   "outputs": [
    {
     "data": {
      "text/plain": [
       "[3, 6, 6]"
      ]
     },
     "execution_count": 22,
     "metadata": {},
     "output_type": "execute_result"
    }
   ],
   "source": [
    "get_a_hammer(Arr)"
   ]
  },
  {
   "cell_type": "markdown",
   "id": "87b082ba-2401-4915-bee2-9207da92a0d9",
   "metadata": {},
   "source": [
    "### Recursive Procedure\n",
    "Observe that for array $A[low,high]$ and midpoint $mid$, a contigous subarray $A[i,j]$ exists $\\ni$:\n",
    "1. it exists entirely in $A[low, mid]$, $low \\leq i \\leq j \\leq mid$\n",
    "2. it exists entirely in $A[mid, high]$, $mid \\leq i \\leq j \\leq high$\n",
    "3. it crosses $mid$, $low \\leq i \\leq mid < j \\leq high$ \n",
    "\n",
    "Idea: For an array, find the max subarray of the left half, of the right half, and for the case when it includes the midpoint. Choose the max of the three. Most of the real computation is done in the computation of the max subarray that crossed the midpoint. The left and right max subarrays are just computed through recursive comparison.   \n",
    "\n",
    "Procedure:\n",
    "1. Recursively split array, with base case returning the element of an array of length 1\n",
    "2. Compute max subarray that straddles midpiont\n",
    "3. Return the max of the 3 \n",
    "\n",
    "Example: \n",
    "1. For array [-2, 3, 1, 5]\n",
    "    1. split into left [-2, 3] $\\rightarrow$ return [3]\n",
    "        1. split into left [-2] $\\rightarrow$ return max left subarray [-2]\n",
    "        2. split into right [3] $\\rightarrow$ return max right subarray [3]\n",
    "        3. Compute max subarray of [-2, 3] that crosses midpoint $\\rightarrow$ return [-2, 3] (sum = 1)\n",
    "    2. split into right [1, 5] $\\rightarrow$ [1, 5] (sum = 6)\n",
    "        1. split into left [1] $\\rightarrow$ return max left subarray [1]\n",
    "        2. split into right [5] $\\rightarrow$ return max right subarray [5]\n",
    "        3. Compute max subarray of [1, 5] that crosses midpoint $\\rightarrow$ return [1, 5] (sum = 6)\n",
    "    3. Compute max subarray of [-2, 3, 1, 5] that crosses midpoint $\\rightarrow$ returns [3, 1, 5] (sum = 9)\n",
    "2. Returns [3, 1, 5] (sum = 9)\n"
   ]
  },
  {
   "cell_type": "markdown",
   "id": "5a06709b-f2c6-4554-9f78-a981a2a32435",
   "metadata": {},
   "source": [
    "#### Max Crossing Subarray\n",
    "Finds the maximum subarray of A such that sum($A[i, j]$) is maximixed $ \\forall i,j \\ni low \\leq i \\leq mid < j \\leq high$\n"
   ]
  },
  {
   "cell_type": "code",
   "execution_count": 29,
   "id": "ca359fa0-8aae-4c93-8f58-b23be04144ca",
   "metadata": {},
   "outputs": [],
   "source": [
    "def find_max_crossing_subarray(A, low, mid, high):\n",
    "    ''' Given inputs orignal array A, low ind low, high ind high, and mid ind mid\n",
    "        returns left and right indices of max subarray that crosses midpoint and its sum.\n",
    "        Expects midpoint to be \"low\" when even, e.g. [a, b, c, d] -> midpoint is 1 not 2\n",
    "    '''\n",
    "    # find max subbarray left\n",
    "    max_left_sum = -1*np.inf\n",
    "    sum_ = 0\n",
    "    max_left_ind = mid\n",
    "    \n",
    "    for i in range(mid, low-1, -1):\n",
    "        sum_ += A[i]\n",
    "        if sum_ > max_left_sum:\n",
    "            max_left_sum = sum_\n",
    "            max_left_ind = i\n",
    "\n",
    "    # find max subbarray right\n",
    "    max_right_sum = -1*np.inf\n",
    "    sum_ = 0\n",
    "    max_right_ind = mid+1\n",
    "    \n",
    "    for i in range(mid+1, high+1):\n",
    "        sum_ += A[i]\n",
    "        if sum_ > max_right_sum:\n",
    "            max_right_sum = sum_\n",
    "            max_right_ind = i\n",
    "\n",
    "    return max_left_ind, max_right_ind, max_left_sum+max_right_sum\n",
    "            "
   ]
  },
  {
   "cell_type": "markdown",
   "id": "cbd10833-e558-43d9-94ef-1a109704f535",
   "metadata": {},
   "source": [
    "### Recursive Find Max Subarray\n",
    "Cost is $O(nlog(n))$"
   ]
  },
  {
   "cell_type": "code",
   "execution_count": 32,
   "id": "2c00ee2a-85c6-4dde-be88-70ffe6028e46",
   "metadata": {},
   "outputs": [],
   "source": [
    "def get_max_subarray(A, low, high):\n",
    "    if low == high:\n",
    "        #only one element left\n",
    "        return low, high, A[low]\n",
    "    \n",
    "    mid = (high+low) // 2\n",
    "    left_low, left_high, left_sum = get_max_subarray(A, low, mid)\n",
    "\n",
    "    right_low, right_high, right_sum = get_max_subarray(A, mid+1, high)\n",
    "\n",
    "    cross_low,cross_high, cross_sum = find_max_crossing_subarray(A, low, mid, high)\n",
    "\n",
    "\n",
    "    if left_sum >= right_sum and left_sum >= cross_sum:\n",
    "        return left_low, left_high, left_sum\n",
    "    elif right_sum >= left_sum and right_sum >= cross_sum:\n",
    "        return right_low, right_high, right_sum\n",
    "    else:\n",
    "        return cross_low, cross_high, cross_sum\n"
   ]
  },
  {
   "cell_type": "code",
   "execution_count": 46,
   "id": "5119dee8-1803-4eea-8054-cfa4baa14324",
   "metadata": {},
   "outputs": [
    {
     "name": "stdout",
     "output_type": "stream",
     "text": [
      "Bounds A[3, 6], SubArray: [4, -1, 2, 1], Sum: 6\n"
     ]
    }
   ],
   "source": [
    "A = [-2, 1, -3, 4, -1, 2, 1, -5, 4]\n",
    "max_subarray_out = get_max_subarray(A, 0, len(A)-1)\n",
    "print(f\"Bounds A[{max_subarray_out[0]}, {max_subarray_out[1]}], SubArray: {A[max_subarray_out[0]:max_subarray_out[1]+1]}, Sum: {max_subarray_out[2]}\")"
   ]
  },
  {
   "cell_type": "markdown",
   "id": "b072a88a-a6e5-4767-92a2-25f24c6a0819",
   "metadata": {},
   "source": [
    "### Kadane's Algorithm\n",
    "\n",
    "Let the $M_{k}$ denote the maximum subarry of $A$ ending at index $k$. Then the maximum subarray at point $n$ is either $A[n]$ or $M_{n-1} + A[n]$. Based upon this, can produce an optimal algorithm.   \n",
    "Cost $O(n)$"
   ]
  },
  {
   "cell_type": "code",
   "execution_count": 50,
   "id": "14d6429b-0d04-4032-a635-fe44e5f4af2a",
   "metadata": {},
   "outputs": [],
   "source": [
    "def kadane_max_subarray(A):\n",
    "    running_max = global_max = A[0]\n",
    "    left = right = 0\n",
    "\n",
    "    for i in range(1, len(A)):\n",
    "        if running_max + A[i] < A[i]:\n",
    "            left = i\n",
    "            running_max = A[i]\n",
    "        else:\n",
    "            running_max = running_max + A[i]\n",
    "            \n",
    "        if running_max > global_max:\n",
    "            global_max = running_max\n",
    "            right = i\n",
    "            \n",
    "    return left, right, global_max"
   ]
  },
  {
   "cell_type": "code",
   "execution_count": 53,
   "id": "456c0e10-8530-4a9e-ba4b-daea88321329",
   "metadata": {},
   "outputs": [
    {
     "name": "stdout",
     "output_type": "stream",
     "text": [
      "Bounds A[3, 6], SubArray: [4, -1, 2, 1], Sum: 6\n"
     ]
    }
   ],
   "source": [
    "max_subarray_out = kadane_max_subarray(A)\n",
    "print(f\"Bounds A[{max_subarray_out[0]}, {max_subarray_out[1]}], SubArray: {A[max_subarray_out[0]:max_subarray_out[1]+1]}, Sum: {max_subarray_out[2]}\")"
   ]
  },
  {
   "cell_type": "code",
   "execution_count": 54,
   "id": "92adecc9-ea99-4dc7-b17c-486c9924eba8",
   "metadata": {},
   "outputs": [
    {
     "name": "stdout",
     "output_type": "stream",
     "text": [
      "Bounds A[2, 6], SubArray: [-3, 4, -1, 2, 1], Sum: 8\n"
     ]
    }
   ],
   "source": [
    "A2 = [-3, -4, 5, -1, 2, -4, 6, -1]\n",
    "max_subarray_out = kadane_max_subarray(A2)\n",
    "print(f\"Bounds A[{max_subarray_out[0]}, {max_subarray_out[1]}], SubArray: {A[max_subarray_out[0]:max_subarray_out[1]+1]}, Sum: {max_subarray_out[2]}\")"
   ]
  },
  {
   "cell_type": "code",
   "execution_count": null,
   "id": "ac6bb798-ce43-470d-ad02-e9db3f3e2ad3",
   "metadata": {},
   "outputs": [],
   "source": []
  }
 ],
 "metadata": {
  "kernelspec": {
   "display_name": "Python 3 (ipykernel)",
   "language": "python",
   "name": "python3"
  },
  "language_info": {
   "codemirror_mode": {
    "name": "ipython",
    "version": 3
   },
   "file_extension": ".py",
   "mimetype": "text/x-python",
   "name": "python",
   "nbconvert_exporter": "python",
   "pygments_lexer": "ipython3",
   "version": "3.9.7"
  }
 },
 "nbformat": 4,
 "nbformat_minor": 5
}
