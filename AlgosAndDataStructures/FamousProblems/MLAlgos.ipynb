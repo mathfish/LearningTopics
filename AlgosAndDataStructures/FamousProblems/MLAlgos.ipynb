{
 "cells": [
  {
   "cell_type": "code",
   "execution_count": 25,
   "id": "8eb73b59-5e10-4848-a1b8-f1c962334bfc",
   "metadata": {},
   "outputs": [],
   "source": [
    "from collections import defaultdict\n",
    "import pandas as pd\n",
    "import numpy as np\n",
    "from matplotlib import pyplot as plt"
   ]
  },
  {
   "cell_type": "markdown",
   "id": "bf791f0f-71e8-45ab-8e7d-dd739dd2190c",
   "metadata": {},
   "source": [
    "# Popular ML Algorithms"
   ]
  },
  {
   "cell_type": "markdown",
   "id": "ec9d63e8-2c57-43e7-ad6f-c0a8fa87f477",
   "metadata": {},
   "source": [
    "## Linear Regression with Gradient Descent"
   ]
  },
  {
   "cell_type": "markdown",
   "id": "9b0f9299-1931-45f3-aa27-c23a892e7ea7",
   "metadata": {},
   "source": [
    "## Logistic Regression with Gradient Descent"
   ]
  },
  {
   "cell_type": "markdown",
   "id": "a3b9f9ad-ad89-488a-aa31-7148ce2488c3",
   "metadata": {},
   "source": [
    "## K-Means Clustering"
   ]
  },
  {
   "cell_type": "code",
   "execution_count": 132,
   "id": "7740ccad-635a-4e83-bc59-35fabfe7cb10",
   "metadata": {},
   "outputs": [
    {
     "data": {
      "image/png": "[encoded data removed]",
      "text/plain": [
       "<Figure size 432x288 with 1 Axes>"
      ]
     },
     "metadata": {
      "needs_background": "light"
     },
     "output_type": "display_data"
    }
   ],
   "source": [
    "# get data\n",
    "a = np.random.multivariate_normal([-2, -2], [[1.0, 0], [0, 1.0]], 50).T\n",
    "b = np.random.multivariate_normal([2, -2], [[0.5, 0], [0, 0.5]], 50).T\n",
    "c = np.random.multivariate_normal([2, 3], [[1.0, 0], [0, 1.5]], 50).T\n",
    "X = np.hstack([a, b, c])\n",
    "plt.scatter(X[0], X[1]);"
   ]
  },
  {
   "cell_type": "markdown",
   "id": "ef12d657-5d24-4302-b16e-c974a367114b",
   "metadata": {},
   "source": [
    "Steps\n",
    "1. Randomly choose k centroids\n",
    "2. Calculate distance between centroids for all points. Assign points to closest centroid\n",
    "3. Find new centroid and repeat\n",
    "\n",
    "* Given a N sized list of numbers and a k\n",
    "    * Return list L of size N with each value being 1 to k\n",
    "    * Means number in list at index i is assigned to cluster value at index i in L"
   ]
  },
  {
   "cell_type": "code",
   "execution_count": 187,
   "id": "5e637ec2-2c92-4636-8b6f-39d0b43b0683",
   "metadata": {},
   "outputs": [],
   "source": [
    "class KMeans:\n",
    "    def __init__(self, k, **kwargs):\n",
    "        self.k = k\n",
    "        self.iter = 100 if 'iter' not in kwargs else kwargs['iter']\n",
    "        self.tol = 1e-6 if 'tol' not in kwargs else kwargs['tol']\n",
    "        \n",
    "    def fit(self, data):\n",
    "        self.data = data\n",
    "        self.num_els = data.shape[1]\n",
    "        self.clusters, self.data_clusters = self._build_clusters()\n",
    "        \n",
    "    def _build_clusters(self):\n",
    "        prev_c = None\n",
    "        new_c = [[self.data[0][i], self.data[1][i]] for i in np.random.randint(low=0, high=self.num_els, size=self.k)]\n",
    "        cntr = 1\n",
    "        while self._centroid_max_dist(prev_c, new_c) > self.tol and cntr < self.iter:\n",
    "            c_distances = self._calculate_distances(new_c)\n",
    "            cluster_assign = self._assign_to_clusters(c_distances)\n",
    "            prev_c = new_c\n",
    "            new_c = self._compute_centroids(cluster_assign, prev_c)\n",
    "            cntr += 1 \n",
    "        \n",
    "        return new_c, cluster_assign\n",
    "    \n",
    "    @staticmethod\n",
    "    def _centroid_max_dist(prev, new):\n",
    "        if prev is None:\n",
    "            return float(\"infinity\")\n",
    "        \n",
    "        return max([KMeans._l2_dist(p, n) for p,n in zip(prev, new)])\n",
    "    \n",
    "    @staticmethod\n",
    "    def _l2_dist(p1, p2):\n",
    "        p1, p2 = np.array(p1), np.array(p2)\n",
    "        return np.linalg.norm(p1-p2)\n",
    "    \n",
    "    def _compute_centroids(self, c_assign, prev_c):\n",
    "        centroids = [None]*self.k\n",
    "        for cluster in c_assign:\n",
    "            if len(c_assign[cluster][0]) == 0 and len(c_assign[cluster][1]) == 0:\n",
    "                centroids[cluster-1] = prev_c[cluster-1]\n",
    "                continue\n",
    "                \n",
    "            # Can choose mid-point alternatively to the mean\n",
    "            # x_mid = (max(c_assign[cluster][0]) + min(c_assign[cluster][0]))/2\n",
    "            # y_mid = (max(c_assign[cluster][1]) + min(c_assign[cluster][1]))/2\n",
    "            x_mean, y_mean = np.mean(c_assign[cluster], axis=1)\n",
    "            centroids[cluster-1] = [x_mean, y_mean]\n",
    "            \n",
    "        return centroids\n",
    "    \n",
    "    def _assign_to_clusters(self, distances):\n",
    "        cluster_assign = {c+1:[[], []] for c in range(self.k)}\n",
    "        for i, d in enumerate(distances):\n",
    "            cluster = np.argmin(d)+1\n",
    "            coords = cluster_assign.get(cluster)\n",
    "            coords[0].append(self.data[0][i])\n",
    "            coords[1].append(self.data[1][i])\n",
    "        \n",
    "        return cluster_assign\n",
    "    \n",
    "    def _calculate_distances(self, clusters):\n",
    "        distances = []\n",
    "        for point in zip(self.data[0], self.data[1]):\n",
    "            distances.append([self._l2_dist(point, c) for c in clusters])\n",
    "        \n",
    "        return distances\n",
    "    \n",
    "    def inertia(self):\n",
    "        sqrd_dists = []\n",
    "        for cluster, data in self.data_clusters.items():\n",
    "            c_coords = self.clusters[cluster-1]\n",
    "            c_sqrd_dists = [np.power(self._l2_dist(point, c_coords), 2) for point in zip(data[0], data[1])]\n",
    "            sqrd_dists.extend(c_sqrd_dists)\n",
    "        \n",
    "        return np.mean(sqrd_dists)\n",
    "    \n",
    "    def silhoutte_score(self):\n",
    "        pass\n",
    "        # for cluster, data in self.data_clusters.items():\n",
    "            # mean distance to all points within same cluster\n",
    "            \n",
    "    \n",
    "\n",
    "    \n",
    "    def assign(self, point):\n",
    "        pass\n",
    "        "
   ]
  },
  {
   "cell_type": "code",
   "execution_count": 188,
   "id": "88334437-354c-4f4c-ba64-99919d76ea28",
   "metadata": {},
   "outputs": [],
   "source": [
    "models = []\n",
    "for i in range(10):\n",
    "    kmeans = KMeans(3)\n",
    "    kmeans.fit(X)\n",
    "    models.append(kmeans)\n",
    "\n",
    "best_model = sorted(models, key=lambda m:m.inertia())[0]"
   ]
  },
  {
   "cell_type": "code",
   "execution_count": 189,
   "id": "e7698b33-049f-4a7d-ab81-f59f0b786bbb",
   "metadata": {},
   "outputs": [
    {
     "data": {
      "image/png": "[encoded data removed]",
      "text/plain": [
       "<Figure size 432x288 with 1 Axes>"
      ]
     },
     "metadata": {
      "needs_background": "light"
     },
     "output_type": "display_data"
    }
   ],
   "source": [
    "fig, ax = plt.subplots()\n",
    "\n",
    "ax.scatter(X[0], X[1])\n",
    "clrs = ['r', 'orange', 'y', 'g']\n",
    "\n",
    "for cluster, data in best_model.data_clusters.items():\n",
    "    ax.scatter(data[0], data[1], color=clrs[cluster-1])\n",
    "\n",
    "for i, c in enumerate(best_model.clusters):\n",
    "    ax.scatter(c[0], c[1], color=clrs[i], edgecolor = 'k');"
   ]
  },
  {
   "cell_type": "code",
   "execution_count": null,
   "id": "e52f2435-3ef0-4090-bee1-e050e5ef7423",
   "metadata": {},
   "outputs": [],
   "source": []
  }
 ],
 "metadata": {
  "kernelspec": {
   "display_name": "Python 3 (ipykernel)",
   "language": "python",
   "name": "python3"
  },
  "language_info": {
   "codemirror_mode": {
    "name": "ipython",
    "version": 3
   },
   "file_extension": ".py",
   "mimetype": "text/x-python",
   "name": "python",
   "nbconvert_exporter": "python",
   "pygments_lexer": "ipython3",
   "version": "3.7.12"
  }
 },
 "nbformat": 4,
 "nbformat_minor": 5
}
