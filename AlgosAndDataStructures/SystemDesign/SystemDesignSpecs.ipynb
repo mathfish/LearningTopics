{
 "cells": [
  {
   "cell_type": "markdown",
   "id": "b0c0849e-85c8-41df-8da6-193c97a57b33",
   "metadata": {},
   "source": [
    "# System Designs Overview\n"
   ]
  },
  {
   "cell_type": "markdown",
   "id": "d8394da5-12d8-41b5-be2b-273cd6ec1513",
   "metadata": {},
   "source": [
    "## Web Service System for Millions of Users\n",
    "![Final Million User System](Resources/FinalWebSrvr.JPG)\n",
    "\n",
    "(One Data Center Shown as Example)\n",
    "* **Load Balaner** \n",
    "    * Sends traffic to correct data center based upon GEO DNS routing\n",
    "    * Distributes traffic envenly to web servers within a data center\n",
    "    * Routes data only healthy web servers or data centers\n",
    "* **CDN - Content Delivery Network**\n",
    "    * Geographically closest server serves content\n",
    "    * Can cache and deliver based upon request path, cookines, query strings, and headers\n",
    "* **Stateless Webs Server Architecture**\n",
    "    * Session state data stored in persisten data store\n",
    "    * Allows for scaling web tier\n",
    "    * Session state store across all data centers to re-route traffic due to outage\n",
    "* **Data Tier follows a Master-Slave Replication design with Sharding**\n",
    "    * Master database receives all writes, updates, and deletes\n",
    "    * All data is copied to slaves which receive all read requests\n",
    "    * Provides high availability and reliability\n",
    "    * Data is sharded across multiple Master-Slave constellations\n",
    "* **Message Queue Follows Pub-Sub Pattern for Task Processing**\n",
    "* **Logging and Metrics Performed**"
   ]
  },
  {
   "cell_type": "markdown",
   "id": "8f43f859-a800-44f6-b6d1-54a906d2811a",
   "metadata": {},
   "source": [
    "## Rate Limiter Design"
   ]
  },
  {
   "cell_type": "markdown",
   "id": "9742f32b-445a-410c-9ed8-9406bdc2cdf3",
   "metadata": {},
   "source": [
    "![Rate Limiter](Resources/RateLimiter.JPG)\n",
    "\n",
    "* **Rate Limiter Middleware**\n",
    "    * Assuming microservice design, could also use rate limiter functionality in API Gateway\n",
    "    * Uses Leaking Bucket rate limiting Algorithm (See Below)\n",
    "    * Requests that are rate limited receive a HTTP 429 response\n",
    "    \n",
    "### Rate Limiting Algorithms\n",
    "* **Token Bucket**\n",
    "    * Parameters: bucket capactiy of *N* tokens and tokens are added to bucket at rate *R* (how many tokens per unit of time)\n",
    "    * Each request needs a token for processing\n",
    "    * If no tokens available, request is dropped\n",
    "    * Can either have a global bucket or a bucket for each API endpoint\n",
    "* **Leaking Bucket**\n",
    "    * Parameters: FIFO queue size *S* and outflow rate *R* (number of requests to process in a fixed time unit)\n",
    "    * Requests are put on the queue if there is room and processed at a fixed rate\n",
    "    * Otherwise request is dropped\n",
    "* **Fixed Window Counter**\n",
    "    * Parameters: time window size *S* and max counter of *C*\n",
    "    * Timeline is divided into windows of size *S* and each window can process upto *C* requests, with each request incrementing the counter that is initialized at 0\n",
    "    * When counter is full for a window, requests are dropped\n",
    "    * Issue: Can exceed *C* if there is a spike in requests at the edges of windows\n",
    "* **Sliding Window Log**\n",
    "    * Parameters: max request count *C* per unit of time window *T* (e.g. 60 seconds lookback)\n",
    "    * Request timestamp stored in a cache and all requests older than current timestamp minus time window *T* are removed\n",
    "    * If log/cache size is less than max request count *C*, request is processed\n",
    "    * Else, the request is dropped but kept in the cache/log\n",
    "* **Sliding Window Counter**\n",
    "    * Hybrid between Fixed Window Counter and Sliding Window Log algorithms\n",
    "        * Fixed window length *FW*\n",
    "        * Rolling window length *RW*\n",
    "        * Max requests *C*\n",
    "        * Number of requests for a rolling window calculated using:    \n",
    "        REQUESTS_IN_CURR_WINDOW + REQUESTS_IN_PREV_WINDOW * OVERLAP_PERCENT_OF_ROLLING_WINDOW_AND_PREV_WINDOW\n",
    "        * Example: If 3 requests in current window, 7 in previous window, and the rolling window has a 70% overlap with previous window $\\rightarrow 3 + 7\\times .70 = 6.5$ \n",
    "    * Can round up or down the calculated max requests in a rolling window\n",
    "    * Reject or accept requests if number is greater than *C*"
   ]
  },
  {
   "cell_type": "code",
   "execution_count": null,
   "id": "01441643-56c6-4a5d-9852-3bc40b97aa67",
   "metadata": {},
   "outputs": [],
   "source": []
  }
 ],
 "metadata": {
  "kernelspec": {
   "display_name": "Python 3 (ipykernel)",
   "language": "python",
   "name": "python3"
  },
  "language_info": {
   "codemirror_mode": {
    "name": "ipython",
    "version": 3
   },
   "file_extension": ".py",
   "mimetype": "text/x-python",
   "name": "python",
   "nbconvert_exporter": "python",
   "pygments_lexer": "ipython3",
   "version": "3.7.12"
  }
 },
 "nbformat": 4,
 "nbformat_minor": 5
}
