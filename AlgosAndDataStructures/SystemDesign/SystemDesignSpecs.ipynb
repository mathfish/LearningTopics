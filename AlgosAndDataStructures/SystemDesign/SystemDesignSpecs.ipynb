{
 "cells": [
  {
   "cell_type": "markdown",
   "id": "8382456d-c813-4084-a4b6-121adcbd4b40",
   "metadata": {},
   "source": [
    "# System Design Specifications\n",
    "\n",
    "Larger system design specifications that might leverage the components listed in [SystemDesignComponentNotebook](SystemDesignComponents.ipynb)."
   ]
  },
  {
   "cell_type": "markdown",
   "id": "3d1012fa-4729-4c03-8c3e-79addf1b32b9",
   "metadata": {},
   "source": [
    "## URL Shortener Design\n",
    "\n",
    "**Shorten Long URL**   \n",
    "![URLShortener](Resources/URLShorten.JPG)\n",
    "\n",
    "$ $    \n",
    "* *POST api/v1/data/shorten?longUrl=[longURLString]*\n",
    "* Generates a new ID using unique ID generator\n",
    "* Uses base 62 conversion of unique ID for shortened URL\n",
    "    * Supports 0-9,a-z, and A-Z characters $\\rightarrow$ 62 characters\n",
    "    * System needs to support 365,000,000 unique URLs $\\rightarrow 62^7$ is minimum length that meets this requirement    \n",
    "\n",
    "$ $   \n",
    "**URL Redirect Using Short URL**   \n",
    "![URLShortRedirect](Resources/URLShortRedirect.JPG)\n",
    "    \n",
    "$ $    \n",
    "* *GET api/v1/shortUrl*\n",
    "* Redirects using status code 302 $\\rightarrow$ URL is temporarily moved\n",
    "    * Causes subsequent requests to be sent to URL shortener service, which is good for metric monitoring\n",
    "    * If this is not critical can use status code 301 instead $\\rightarrow$ permanently moved and subsequent requests redirected directly"
   ]
  },
  {
   "cell_type": "markdown",
   "id": "c201c8d1-c57f-41ca-a5c3-7b6fc867389b",
   "metadata": {},
   "source": [
    "### Associated Topics\n",
    "\n",
    "* Hash + Collision Resolution\n",
    "    * Use hash function of long URL (e.g. SHA-1, MD5, CRC32)\n",
    "    * Keep only max number of digits allowed, in this case 7\n",
    "    * Check if collision if that hash exists in DB using bloom filter\n",
    "        * If collision exists, append predefined string to long URL and try again\n",
    "        * Adds complicated logic but doesn't need a unique ID generator"
   ]
  }
 ],
 "metadata": {
  "kernelspec": {
   "display_name": "Python 3 (ipykernel)",
   "language": "python",
   "name": "python3"
  },
  "language_info": {
   "codemirror_mode": {
    "name": "ipython",
    "version": 3
   },
   "file_extension": ".py",
   "mimetype": "text/x-python",
   "name": "python",
   "nbconvert_exporter": "python",
   "pygments_lexer": "ipython3",
   "version": "3.7.12"
  }
 },
 "nbformat": 4,
 "nbformat_minor": 5
}
